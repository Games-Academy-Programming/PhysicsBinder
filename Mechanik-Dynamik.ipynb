{
 "cells": [
  {
   "cell_type": "markdown",
   "metadata": {},
   "source": [
    "# Dynamik\n",
    "\n",
    "Nachdem im vorherigen Abschnitt die Welt noch in Ruhe war, und sich nichts bewegte, ändern wir dies nun. Die Dynamik setzt sich mit der (relativen) Bewegung von Objekten auseinander. \n",
    "\n",
    "Aber was bedeutet Bewegung überhaupt? In der einfachsten Form ist Bewegung die Änderung der Position mit der Zeit, und diese Änderung konstant ist. "
   ]
  },
  {
   "cell_type": "markdown",
   "metadata": {},
   "source": [
    "## Idealisierungen\n",
    "\n",
    "Wie bereits in der Statik, sollen einige Eigenschaften der echten Welt vereinfacht werden, um sie einfacher berechnen zu können. "
   ]
  },
  {
   "cell_type": "markdown",
   "metadata": {},
   "source": [
    "### Massepunkt \n",
    "\n",
    "Die erste Idealisierung die wir treffen ist der Massepunkt. \n",
    "\n",
    "Wir nehmen an, dass sich die gesamte Masse eines Objekts in einem Punkt befindet, welcher virtuell keine räuliche Ausdehnung hat. Wir können diese Idealisierung annehmen, wenn das Objekt klein gegenüber seiner Bewegungsbahn ist. Beispielsweise kann so eine mit dem Gewehr verschoßene Patrone wird idealisiert werden, aber auch die Flugbahn einer Rakete wenn man sie mit der Größe der Erde vergleicht."
   ]
  },
  {
   "cell_type": "markdown",
   "metadata": {},
   "source": [
    "### Starrer Körper\n",
    "\n",
    "Wie zuvor nehmen wir an, dass unsere Körper starr sind und sich nicht verformen können. "
   ]
  },
  {
   "cell_type": "markdown",
   "metadata": {},
   "source": [
    "### Massepunktsystem\n",
    "\n",
    "Hier liegt nicht mehr eine einzelne Masse vor, sondern eine Vielzahl von Massen. Diese müssen, um ein System zu bilden, jedoch miteinander verbunden sein. Diese Bindungen können zwei Arten auftreten: \n",
    "\n",
    "* kinematisch\n",
    "\n",
    "        Hier ist die Verbindung starr, die Lage der Körper zueinander wird durch die Bindung zeitinvariant eingeschränkt. \n",
    "\n",
    "* physikalisch\n",
    "\n",
    "        Hier ist die Verbindung elastisch, die relative Lage der Massepunkte zueinander ändert sich in Abhängigkeit der vorhandenen Kräfte. Ein einfaches Beispiel einer Verbindung wären zwei Massepunkte die mit einer Feder verbunden sind."
   ]
  },
  {
   "cell_type": "markdown",
   "metadata": {},
   "source": [
    "## Kinematik des Massepunktes \n",
    "\n",
    "Zunächst soll die Bewegung eines Massepunktes beschrieben werden. Hierfür müssen zunächst einige Grundbegriffe eingeführt werden. \n",
    "\n",
    "Die Kinematik befasst sich *nicht* mit den Ursachen der Bewegung und Bewegunsgänderung (Kräfte und Momente) sondern *nur* mit dessen Wirkung auf die Bewegungsbahn und dessen zeitlicher Änderung. "
   ]
  },
  {
   "cell_type": "markdown",
   "metadata": {},
   "source": [
    "#### Bewegungsbahn\n",
    "\n",
    "Die erste Gleichung der Kinematik befasst sich damit, die Position eines Objekts über die Zeit abzubilden und hat damit die allgemeine Form \n",
    "\n",
    "\\begin{equation} \n",
    "    \\vec{s}= \\vec{s}(t)\n",
    "\\end{equation}\n",
    "\n",
    "Hier stellt der Vektor $\\vec{s}$ den Ort dar und $t$ die Zeit. "
   ]
  },
  {
   "cell_type": "markdown",
   "metadata": {},
   "source": [
    "#### Geschwindigkeit\n",
    "\n",
    "Die Geschwindigkeit eines Objekts ist die Änderung der Position über die Zeit. Damit gilt zunächst\n",
    "\n",
    "\\begin{equation}\n",
    "    \\vec{v_m} = \\frac{\\Delta \\vec{s}}{\\Delta t}\n",
    "\\end{equation}\n",
    "\n",
    "unter der Annahme, dass die Geschwindigkeit über den Zeitraum $\\Delta t$ konstant ist."
   ]
  },
  {
   "cell_type": "markdown",
   "metadata": {},
   "source": [
    "##### Durchschnittsgeschwindigkeit und Momentangeschwindigkeit\n",
    "\n",
    "Die Gleichung oben gilt _nur_ wenn die Geschwindigkeit des Objekts konstant über den Zeitraum $\\Delta t$ ist. Dies wird an einem Beispiel klar. \n",
    "\n",
    "Nehmen wir, an ein Autofahrer pendelt nach der Arbeit, aus der Stadt ins Umland zurück. Die Strecke betrug 50km und er legte die Strecke in einer Stunde zurück. Einige Tage später hat er ein Andenken an diese Fahrt in der Post die behauptet, er sei über 80 km/h gefahren. \n",
    "\n",
    "Naiv wäre folgende Rechnung "
   ]
  },
  {
   "cell_type": "markdown",
   "metadata": {},
   "source": [
    "\\begin{equation}\n",
    "    \\vec{v_m} = \\frac{\\Delta \\vec{s}}{\\Delta t} = \\frac{50 km}{1 h} = 50 km/h\n",
    "\\end{equation}"
   ]
  },
  {
   "cell_type": "markdown",
   "metadata": {},
   "source": [
    "und der Fahrer ist nie über 50 km/h hinweg gekommen ist. \n",
    "\n",
    "Wer aber so rechnet, vergisst, dass hier die _mittlere_ Geschwindigkeit ermittelt wird. Die mittlere Geschwindigkeit bezieht sich auf den gesamten Zeitraum $\\Delta t$, aber zu einzelnen Zeitpukten kann die Geschwindigkeit massiv von der mittleren Geschwindigkeit abweichen. Fährt man die meiste Zeit über 40 km/h und einen kurzen Abschnitt mit 100 km/h ist es gut denkbar, dass der Heimweg in einer Stunde zurückgelegt wurde, aber auch klar, warum der Fahrer geblizt wurde. \n",
    "\n",
    "Wie kommt man also auf die Momentangeschwindigkeit? \n",
    "\n",
    "Die Antwort ist simpel. Der Zeitraum über den die Geschwindigkeit gemittelt wird muss so klein wie möglich gewählt werden. Wir suchen also die Ableitung der Position nach der Zeit. "
   ]
  },
  {
   "cell_type": "markdown",
   "metadata": {},
   "source": [
    "\\begin{equation}\n",
    "    \\vec{v}  = \\lim\\limits_{\\Delta t \\rightarrow 0} \\frac{\\Delta \\vec{s}}{\\Delta t} = \\frac{\\mathrm d \\vec{s}}{\\mathrm d t} = \\dot{\\vec{s}}\n",
    "\\end{equation}"
   ]
  },
  {
   "cell_type": "markdown",
   "metadata": {},
   "source": [
    "Hiermit erhält man die exakte Geschwindigkeit zu einem beliebigen Zeitpunkt $t$. "
   ]
  },
  {
   "cell_type": "markdown",
   "metadata": {},
   "source": [
    "#### Beschleunigung \n",
    "\n",
    "Die dritte Größe im Bunde ist die Beschleunigung. Die Beschleunigung beschreibt die Änderung der Geschwindigkeit mit der Zeit. "
   ]
  },
  {
   "cell_type": "markdown",
   "metadata": {},
   "source": [
    "\\begin{equation}\n",
    "    \\vec{a}  = \\lim\\limits_{\\Delta t \\rightarrow 0} \\frac{\\Delta \\vec{v}}{\\Delta t} = \\frac{\\mathrm d \\vec{v}}{\\mathrm d t} = \\ddot{\\vec{s}}\n",
    "\\end{equation}"
   ]
  },
  {
   "cell_type": "markdown",
   "metadata": {},
   "source": [
    "Auch hier ist zwischen mittlerer Beschleunigung und Momentanbeschleunigung zu unterscheiden. \n",
    "\n",
    "Mit diesen drei Größen kann die translatorische Bewegung eines Massepunktes in einem kartesischen Koordinatensystem vollständig beschrieben werden. Auf Drehungen wird [hier](Mechanik-rotierende-Systeme.ipynb) eingegangen. "
   ]
  },
  {
   "cell_type": "markdown",
   "metadata": {},
   "source": [
    "#### Fall 1: Gleichförmige Bewegung \n",
    "\n",
    "Eine gleichförmige Bewegung zeichnet sich dadurch aus, dass keine Änderung der Geschwindigkeit vorkommt. In anderen Worten $\\vec a=0$ gilt. \n",
    "\n",
    "Um die Geschwindigkeit zu erhalten verwenden wir die Umkehroperation der Ableitung und es folgt\n",
    "\n",
    "\\begin{align}\n",
    "a &= \\dot{v} = \\frac{\\mathrm d v}{\\mathrm d t} = 0 \\\\\n",
    "\\mathrm dv &= 0 \\\\\n",
    "\\end{align}\n",
    "\n",
    "Unter betrachtung der Anfangsbedingung $v(t=t_0) = v_0$ gilt damit \n",
    "\n",
    "\\begin{equation}\n",
    "v = v_0 = konst.\n",
    "\\end{equation}\n",
    "\n",
    "wie bereits beschrieben ist der Zusammenhang zwischen Weg und Geschwindigkeit\n",
    "\\begin{equation}\n",
    "    v = \\dot{s} = \\frac{\\mathrm d s}{\\mathrm d t}\n",
    "\\end{equation}\n",
    "\n",
    "Trennt man die Veränderliche folgt \n",
    "\n",
    "\\begin{equation}\n",
    "    \\mathrm d s = v_0 \\mathrm d t\n",
    "\\end{equation}\n",
    "\n",
    "Integration mit den Randbedingungen $s(t = t_0) = s_0$ liefert dann \n",
    "\n",
    "\\begin{equation}\n",
    "s = s_0 + v_0(t-t_0)\n",
    "\\end{equation}"
   ]
  },
  {
   "cell_type": "code",
   "execution_count": 1,
   "metadata": {},
   "outputs": [
    {
     "data": {
      "image/png": "[encoded data removed]",
      "text/plain": [
       "<matplotlib.figure.Figure at 0x229e89df0f0>"
      ]
     },
     "metadata": {},
     "output_type": "display_data"
    }
   ],
   "source": [
    "import numpy as num\n",
    "import matplotlib.pyplot as plt\n",
    "%matplotlib inline\n",
    "\n",
    "a = num.zeros(100+1)\n",
    "\n",
    "v_0 = 1\n",
    "s_0 = 50\n",
    "\n",
    "v = v_0 * num.ones(100)\n",
    "v = num.append([0], v)\n",
    "\n",
    "s = num.cumsum(v, axis=0)+s_0\n",
    "\n",
    "plt.figure(figsize = (14,8))\n",
    "\n",
    "plt.subplot(131)\n",
    "plt.plot(a)\n",
    "plt.title(r'a) Beschleunigung $a$')\n",
    "plt.xlabel('$t$')\n",
    "plt.ylabel('$m s^-2$')\n",
    "plt.ylim((-5,20))\n",
    "plt.grid()\n",
    "\n",
    "plt.subplot(132)\n",
    "plt.plot(v)\n",
    "plt.title(r'b) Geschwindigkeit $v$')\n",
    "plt.xlabel('$t$')\n",
    "plt.ylabel('$m s^-1$')\n",
    "plt.ylim((-5,20))\n",
    "plt.grid()\n",
    "\n",
    "plt.subplot(133)\n",
    "plt.plot(s)\n",
    "plt.title(r'c) Ort $s$')\n",
    "plt.xlabel('$t$')\n",
    "plt.ylabel('$m$')\n",
    "plt.ylim((-5,250))\n",
    "plt.grid()"
   ]
  },
  {
   "cell_type": "markdown",
   "metadata": {},
   "source": [
    "#### Fall 2: Gleichförmig beschleunigte Bewegung\n",
    "\n",
    "Nachdem wir zuerst die gleichförmige Bewegung betrachtet haben, folgt jetzt die gleichförmig beschleunigte Bewegung. Es gilt $a = a_0$.\n",
    "Hier beginnen wir mit der Ermittlung der Geschwindigkeit durch \n",
    "\n",
    "\\begin{align}\n",
    "a &= \\dot{v} = \\frac{\\mathrm d v}{\\mathrm d t} = a_0 \\\\\n",
    "\\mathrm d v &= a_0 \\mathrm d t \\\\\n",
    "\\int\\limits_{v_0}^{v} \\mathrm d v &= \\int\\limits_{t_0}^{t} a_0 \\mathrm d t\\\\\n",
    "v &= v_0 + a_0(t-t_0)\n",
    "\\end{align}\n",
    "\n",
    "Wobei hier angenommen wurde, dass $v(t=t_0) = v_0$\n",
    "\n",
    "Um die Position zu erhalten wird diese Gleichung ein weiters mal über $t$ integriert. \n",
    "\n",
    "\\begin{align}\n",
    "\\int\\limits_{s_0}^{s} \\mathrm d v &= \\int\\limits_{t_0}^{t} v_0 + a_0(t-t_0) \\mathrm d t\\\\\n",
    "s &= s_0 + v_0 t + a_0\\frac{t^2}{2}\n",
    "\\end{align}\n",
    "\n",
    "Wir sehen, dass die Geschwindigkeit bei einer konstanten Beschleunigung linear steigt, die zurückgelegte Strecke quadratisch. "
   ]
  },
  {
   "cell_type": "code",
   "execution_count": 7,
   "metadata": {},
   "outputs": [
    {
     "data": {
      "image/png": "[encoded data removed]",
      "text/plain": [
       "<matplotlib.figure.Figure at 0x1e7ea326b00>"
      ]
     },
     "metadata": {},
     "output_type": "display_data"
    }
   ],
   "source": [
    "import numpy as num\n",
    "import matplotlib.pyplot as plt\n",
    "%matplotlib inline\n",
    "\n",
    "a_0 = 1\n",
    "v_0 = 2\n",
    "s_0 = 10\n",
    "\n",
    "a = a_0 * num.ones(100)\n",
    "a = num.append([0], a)\n",
    "v = num.cumsum(a, axis=0) + v_0\n",
    "\n",
    "s = num.cumsum(v, axis=0)+s_0\n",
    "\n",
    "plt.figure(figsize = (14,8))\n",
    "\n",
    "plt.subplot(131)\n",
    "plt.plot(a)\n",
    "plt.title(r'a) Beschleunigung $a$')\n",
    "plt.xlabel('$t$')\n",
    "plt.ylabel('$m s^-2$')\n",
    "plt.grid()\n",
    "\n",
    "plt.subplot(132)\n",
    "plt.plot(v)\n",
    "plt.title(r'b) Geschwindigkeit $v$')\n",
    "plt.xlabel('$t$')\n",
    "plt.ylabel('$m s^-1$')\n",
    "plt.grid()\n",
    "\n",
    "plt.subplot(133)\n",
    "plt.plot(s)\n",
    "plt.title(r'c) Ort $s$')\n",
    "plt.xlabel('$t$')\n",
    "plt.ylabel('$m$')\n",
    "plt.grid()"
   ]
  },
  {
   "cell_type": "markdown",
   "metadata": {},
   "source": [
    "# Übungsaufgaben Kinematik \n",
    "\n",
    "##  Aufgabe 1\n",
    "Ein Stein fliegt durch das Weltall. Er startet am Punkt $s(t) \\ [s] \\ in \\ m, \\ [t] \\ in \\ s$ $$\\vec s (0) = \\begin{pmatrix}1000\\\\300\\\\37\\end{pmatrix}$$ und befindet sich nach 5 s bei $$\\vec s (5) = \\begin{pmatrix}0\\\\0\\\\42\\end{pmatrix}$$\n",
    "\n",
    "Ermittel folgende Größen des Steins\n",
    "* Geschwindigkeit $\\vec v$\n",
    "* Richtung $\\vec e_{v, stein}$\n",
    "* Geschwindigkeitsbetrag $|\\vec v|$ im Bezug zu $s(0)$ \n",
    "\n",
    "## Aufgabe 2 \n",
    "\n",
    "Ein Läufer bewegt sich über die Punkte $\\vec a,\\ \\vec b$ zu $\\vec c$, wobei diese Positionen mit Bezug zum Startpunkt in Metern angegeben sind. Der Läufer erreicht $\\vec a$ nach 20 s, $\\vec b$ nach 30 s und $\\vec c$ nach einer Minute. \n",
    "\n",
    "$$\\vec a = \\begin{pmatrix}15\\\\5\\\\0\\end{pmatrix},\\ \\vec b = \\begin{pmatrix}25\\\\6\\\\1\\end{pmatrix}\\ \\vec c = \\begin{pmatrix}50\\\\3\\\\6\\end{pmatrix}$$\n",
    "\n",
    "Ermittel folgende Größen für alle Streckenabschnitte\n",
    "* Geschwindigkeit $\\vec v_i$\n",
    "* Richtung $\\vec e_i$\n",
    "* Geschwindigkeitsbetrag $|\\vec v_i|$ \n",
    "\n",
    "Ermittel folgene Größen für die Gesamtstrecke\n",
    "* Durchschnittsgeschwindigkeit $\\vec v$\n",
    "* Richtung $\\vec e_{0c}$\n",
    "* Geschwindigkeitsbetrag $|\\vec v_{0c}|$ \n",
    "\n",
    "Zeichne die ein Diagramm welches den Geschwindigkeitsbetrag über die Zeit aufträgt. Zeichne hier ebenfalls die Durchschnittsgeschwindigkeit ein!\n",
    "\n",
    "In welchen Abschnitten bewegte sich der Läufer schneller als im Durchschnitt? In welchen langsamer?\n",
    "\n",
    "## Aufgabe 3\n",
    "\n",
    "In einem Weltraum Simulationsspiel haben sich die Entwickler dazu entschieden das Schiff des Spielers mit $a_b = -0.2ms^{-2}$ abzubremsen. Das Schiff des Spielers kann mit bis zu $a_t = 5ms^{-2}$ beschleunigen. \n",
    "\n",
    "- Welche Probleme kann diese Implementierung des Abbremsens besitzen?\n",
    "\n",
    "Der Spieler bewegt sein Schiff in gerader Bahn für 20 s mit 25% Schub, gefolgt von einer Minute vollem Schub, danach schaltet der Spieler die Triebwerke aus. \n",
    "\n",
    "- In welcher Entfernung zum Startpunkt kommt das Schiff zum stehen?\n",
    "\n",
    "## Aufgabe 4\n",
    "\n",
    "Gegeben seien zwei Züge mit den entgegengesetzten Geschwindigkeiten $v_1$ und $v_2$ welche zu einem Zeitpunkt $t_0$ im Abstand $d$ aufeinander zufahren. \n",
    "\n",
    "* In welcher Entfernung findet die Kollision statt? \n",
    "* Nach welcher Zeit findet die Kollission statt?\n",
    "    \n",
    "    Nimm hierzu an, dass der Zug mit Geschwindigkeit $v_1$ an einer Position $x(t=t_0) = 0$ beginnt, der Zug mit $v_2$ bei $x(t=t_0) =d$.\n",
    "\n",
    "## Aufgabe 5\n",
    "\n",
    "Gegeben seien zwei Lastwagen der Länge $l$ die in einem Abstand $a$ hintereinander auf der Autobahn fahren. Der Hintere LKW B bewegt sich mit einer Geschwindigkeit $v_B$ der vordere LKW A bewegt sich mit einer Geschwindigkeit $v_A$. \n",
    "\n",
    "* Wie lange dauert der Überholvorgang wenn LKW B in einer Entfernung $c$ vor LKW A einschert?\n",
    "* Welche Entfernung haben die LKW zurückgelegt?\n",
    "\n",
    "# Programmieren mit gleichförmigen Bewegungen\n",
    "Schreibe ein Programm, dass eine gleichförmige Bewegung eines Objekts in 2D simuliert. Das heißt\n",
    "* Ein Objekt (Punkt) bewegt sich in einem 2D Fenster.\n",
    "* Es hat jeweils eine (einstellbare) Geschwindigkeit in $x$-Richtung und $y$-Richtung.\n",
    "* Erreicht das Objekt einen seitlichen Rand, so lasse es an der anderen Seite wieder auftauchen (Snake)\n",
    "* Erreicht das Objekt den oberen oder unteren Rand, so stoppe die Bewegung in $y$-Richtung (__NICHT__ in der $x$-Richtung!)"
   ]
  },
  {
   "cell_type": "markdown",
   "metadata": {},
   "source": [
    "## Kinetik des Massepunktes \n",
    "\n",
    "In der Kinematik wurde nur die Bewegung eines Körpers betrachtet, jedoch nicht die Ursachen, welche zur Bewegung führen. Was wir jetzt brauchen sind Kräfte. \n",
    "\n",
    "Beginnen wir mit dem einfachsten Fall. Wir haben einen Körper, auf den keine Kraft wirkt. In diesem Fall wird Newtons erstes Axiom deutlich: "
   ]
  },
  {
   "cell_type": "markdown",
   "metadata": {},
   "source": [
    "<center>_\"Corpus omne perseverare in statu suo quiescendi vel movendi uniformiter in directum, \n",
    "nisi quatenus illud a viribus impressis cogitur statum suum mutare.\"_</center>"
   ]
  },
  {
   "cell_type": "markdown",
   "metadata": {},
   "source": [
    "<center>_„Ein Körper verharrt im Zustand der Ruhe oder der gleichförmig geradlinigen Bewegung, \n",
    "sofern er nicht durch einwirkende Kräfte zur Änderung seines Zustands gezwungen wird.“\n",
    "_</center>"
   ]
  },
  {
   "cell_type": "markdown",
   "metadata": {},
   "source": [
    "oder vereinfacht"
   ]
  },
  {
   "cell_type": "markdown",
   "metadata": {},
   "source": [
    "<center>\n",
    "_\"Ohne einwirkende Kraft keine Bewegungsänderung\"_\n",
    "</center>"
   ]
  },
  {
   "cell_type": "markdown",
   "metadata": {},
   "source": [
    "Ein Gesetz, welches wir in der Statik bereits freizügig verwendet haben. \n",
    "\n",
    "Betrachtet man diese Eigenschaft in einem dynamischen System bleibt die Grundidee die gleiche. Betrachtet man zum Beispiel einen Airhockeypuk bewegt sich dieser auf gerader Linie weiter bis er auf eine Kante oder einen der Schläger der Spieler trifft. Die Reibung kann hier nahezu komplett verachlässigt werden. "
   ]
  },
  {
   "cell_type": "markdown",
   "metadata": {},
   "source": [
    "### Der Einfluss von Kräften\n",
    "\n",
    "Bisher haben wir die Kinetik mit der Annahme betrachtet, dass unsere Bewegung gleichförmig ist. Jetzt bringen wir Kräfte ins Spiel unter dessen Wirkung wir kein Kräftegleichgewicht mehr besitzen, in anderen Worten, sich der Impuls eines Objekts ändert.\n",
    "\n",
    "Hier kommt Netwons zweites Axiom ins Spiel"
   ]
  },
  {
   "cell_type": "markdown",
   "metadata": {},
   "source": [
    "<center>_„Mutationem motus proportionalem esse vi motrici impressae, et fieri secundum lineam rectam qua vis illa imprimitur.“_</center>"
   ]
  },
  {
   "cell_type": "markdown",
   "metadata": {},
   "source": [
    "<center>_„Die Änderung der Bewegung ist der Einwirkung der bewegenden Kraft proportional und geschieht nach der Richtung derjenigen geraden Linie, nach welcher jene Kraft wirkt.“_</center>"
   ]
  },
  {
   "cell_type": "markdown",
   "metadata": {},
   "source": [
    "oder vereinfacht"
   ]
  },
  {
   "cell_type": "markdown",
   "metadata": {},
   "source": [
    "<center>_\"Je größer die Kraft umso größer die Änderung der Bewegung entlang der Wirkungsachse der Kraft und proportional der Masse\"_</center>"
   ]
  },
  {
   "cell_type": "markdown",
   "metadata": {},
   "source": [
    "# Programmieren mit gleichförmig beschleunigten Bewegungen\n",
    "* Erweitere dein Programm um die Möglichkeit ein bewegliches Objekt in eine beliebige Richtung zu beschleunigen.\n",
    "* Die Beschleunigung soll manuell einstellbar sein. \n",
    "* Füge eine dauerhafte Beschleunigung ein, die Gravitation simulieren soll. "
   ]
  },
  {
   "cell_type": "markdown",
   "metadata": {},
   "source": [
    "### Wechselwirkungsgesetz\n",
    "\n",
    "Zuletzt noch das dritte Newtonsche Gesetz, das Wechselwirkungsgesetz. "
   ]
  },
  {
   "cell_type": "markdown",
   "metadata": {},
   "source": [
    "<center>_„Actioni contrariam semper et aequalem esse reactionem: sive corporum duorum actiones in se mutuo semper esse aequales et in partes contrarias dirigi.“_</center>"
   ]
  },
  {
   "cell_type": "markdown",
   "metadata": {},
   "source": [
    "<center>_\"Kräfte treten immer mit gleich großen entgegenwirkenden Kräften auf: Auf einen Körper wirkende Kräfte besitzen immer eine gleich große entgegenwirkende Kraft\"_</center>"
   ]
  },
  {
   "cell_type": "markdown",
   "metadata": {},
   "source": [
    "<center>_\"actio = reactio\"_</center>"
   ]
  },
  {
   "cell_type": "markdown",
   "metadata": {},
   "source": [
    "Wenn man irgendwo hinkommen will, muss man immer etwas zurücklassen. Dieses Gesetz wurde bereits in der Statik behandelt. "
   ]
  },
  {
   "cell_type": "markdown",
   "metadata": {},
   "source": [
    "### Formale Beschreibung von Kräften\n",
    "\n",
    "Wie bereits beschrieben ist eine Kraft das Produkt einer Beschleunigung $a$ und Masse $m$, allgemein ausgedrückt\n",
    "\n",
    "$$\\vec{F} = m \\vec{a}$$\n",
    "\n",
    "Hierbei ist der Vektor $\\vec{F}$ die resultierende Kraft aller einwirkenden Kräfte. Aus der Statik erinnern wir uns noch, dass Kräfte im Kräfteparallelogram überlagert werden konnten um die resultierende Kraft zu erhalten (bzw. die Lagerreaktionen). Mit diesem Wissen können wir auch \n",
    "\n",
    "$$\\sum\\vec{F} = m \\vec{a}$$\n",
    "\n",
    "definieren, also die Beschleunigung eines Körpers skaliert mit der Masse als Wirkung der Summe aller wirkenden Kräfte. \n",
    "\n",
    "Ist diese Gleichung aufgestellt kann Geschwindigkeit und Position mit geeigneten Anfangsbedingungen durch Integration dieser Gleichung ermittelt werden."
   ]
  },
  {
   "cell_type": "markdown",
   "metadata": {},
   "source": [
    "## Gravitation im Detail\n",
    "\n",
    "Gravitationkraft ist eine Kraft, die von jeder Masse ausgeübt wird. Sie bildet ein Feld welches sich frei im Raum ausdehnt und ist proportional zur Masse eines Objekts. Das Gravitationsfeld wird schwächer, je weiter man sich von der Masse wegbewegt. \n",
    "\n",
    "Fasst man die Zusammenhänge in hierfür in einer Gleichung zusammen erhällt man den Ausdruck \n",
    "\n",
    "$$F_g = G \\frac{m_1 m_2}{r^2}$$\n",
    "\n",
    "zur Bestimmung der Gravitationskraft zwischen zwei Körpern. Hierbei ist _$G = 6,67408 \\cdot 10^{-11}\\frac{m^3}{kg \\cdot s^2}$_\n",
    "die Gravitationskonstante. Hierbei wird angenommen, dass die Körper im vergleich zu ihrem Abstand klein sind. Diese Gleichung gilt auch für die Gravitationskraft $F_g$ auf der Erdoberfläche. Zuvor wurde hierfür $$F_g = m g$$ verwendet und der Abstand $r$ zwischen Objekt und Erde vernachlässigt. Dies war gestattet, weil die meisten Objekte auf der Erdoberfläche klein in Relation zur Erde sind, und in diesem Kontext, nahezu keine Entfernung zwischen beiden liegt. Anders ausgedrückt ist das Gravitationsfeld in der nähe der Erdoberfläche nahezu homogen. "
   ]
  },
  {
   "cell_type": "markdown",
   "metadata": {},
   "source": [
    "#  Energieerhaltungssatz\n",
    "\n",
    "Der Energieerhaltungssatz ist eine Konsequenz des ersten Newton'schen Axiom. Ohne resultierende Kraft, keine Änderung der Bewegung. Dies bedeutet auch, dass die Energie die ein System besitzt sich ohne resultierende Kräfte nicht ändert. \n",
    "\n",
    "Die für diese Vorlesung relevanten Energien sind: \n",
    "* Kinetische Energie\n",
    "* Lageenergie\n",
    "\n",
    "Zunächst die kinetische Energie. Diese wird in der Massenträgheit gespeichert. Je schwerer ein Objekt mit gleicher Geschwindigkeit, umso größer die kinetische Energie. Aber wir wissen auch, dass die kinetische Energie mit der Geschwindigkeit steigt, hier sogar quadratisch. Als Gleichung folgt $$E_k = \\frac{m v^2}{2}$$ wobei $E_k$ die kinetische Energie des Systems ist. \n",
    "\n",
    "Diese Gleichung ist am einfachsten herzuleiten wenn man sich überlegt, dass die kinetische Energie gleich der Arbeit (ließ Energieänderung) eines Objekts aus der Ruhe hin zu einer Geschwindigkeit $v$ darstellt. Integriert man die Gleichung $$\\int F \\mathrm d s = \\int m \\mathrm d v \\frac{\\mathrm d s}{\\mathrm d t}$$\n",
    "wobei $$W = \\int F \\mathrm d s$$\n",
    "\n",
    "mit dem Zusammenhang dass $$v = \\frac{\\mathrm ds}{dt}$$ erhällt man die nun bekannte Gleichung der kinetischen Energie\n",
    "\n",
    "Die Lageenergie speichert ihre Energie nicht in der Massenträgheit, sondern im Gravitationsfeld als mechanisches Potential. Man kann hier die Analogie zum elektrischen Potential ziehen. Auch hier erhält man den Ausdruck für die Energie durch Integration der Kraft $$E_{pot} -\\int F_g \\mathrm d s = - \\int m g \\mathrm d s$$ und erhält nach Lösung $$E_{pot} = m g s$$ als Ausdruck für die Lageenergie. Hierbei beschreibt $s$ die Lage im Feld verläuft antiparallel zur Gravitationsbeschleunigung $g$ und kann als Höhe leicht interpretiert werden. "
   ]
  },
  {
   "cell_type": "markdown",
   "metadata": {},
   "source": [
    "## Idealisierung, verlustfreies System\n",
    "\n",
    "Um die Berechnungen zu vereinfachen nehmen wir an, dass unsere Systeme keine Energie verlieren, bzw.\n",
    "\n",
    "$E_{ges} = E_{kin} + E_{pot} = konst.$\n",
    "\n",
    "Dies kann im Model angenommen werden, in der Realität treten jedoch immer Verluste durch Reibung, aber auch Wärmebildung auf. Unter Verwendung dieser Gleichungen können verschiedene Problemstellungen gelöst werden und eignet sich gut um bestimmte Eckpunkte in der Bahn eines Objektes zu bestimmen. Bspw. das Schwingen eines Pendels in welchem bekannt ist, dass die Umkehrpunkte der Bewegung keine kinetische Energie besitzen und der Tiefpunkt des Pendels keine potentielle Energie. Sind Geschwindigkeiten oder Lage eines Objekts sowie Gesamtenergie bekannt kann an diesen Stellen ebenfalls einfach die Geschwindigkeit ermittelt werden. Der Wechsel von Lageenergie zu kinetischer wird in Achterbahnen besonders deutlich. \n",
    "\n",
    "# Beispielaufgaben Energieerhaltung\n",
    "\n",
    "## Aufgabe 1\n",
    "\n",
    "Ein Auto fährt auf einer Ebene mit einer Geschwindigkeit von $v_1 = 50$ km/h auf einen Berg mit einer Höhe von 500m zu. Beim Erreichen des Bergs fällt der Motor aus. Das Auto wiegt 1500 kg\n",
    "\n",
    "Reibung kann vernachlässigt werden. \n",
    "\n",
    "g = 9,81 $m/s^2$\n",
    "\n",
    "* Kommt der Autofahrer über den Berg?\n",
    "* Wenn ja, wie schnell ist er auf dem Gipfel?\n",
    "* Wenn nein, wie weit kam der Fahrer den Berg hoch?\n",
    "\n",
    "* Wie schnell müsste der Fahrer am Fuß des Bergs gewesen sein um es gerade so auf den Gipfel zu schaffen?\n",
    "* Wie schnell müsste der Fahrer gewesen sein um es genau bis zur halben Höhe des Bergs zu schaffen?"
   ]
  },
  {
   "cell_type": "markdown",
   "metadata": {},
   "source": [
    "**Copyright**\n",
    "\n",
    "The notebooks are provided as [Open Educational Resources](https://en.wikipedia.org/wiki/Open_educational_resources). Feel free to use the notebooks for your own purposes. The text is licensed under [Creative Commons Attribution 4.0]\n",
    "(https://creativecommons.org/licenses/by/4.0/), the code of the IPython examples under the [MIT license](https://opensource.org/licenses/MIT). \n",
    "Please attribute the work as follows: *Games Academy Berlin, Physics for Games Development, 2022*."
   ]
  }
 ],
 "metadata": {
  "kernelspec": {
   "display_name": "Python 3",
   "language": "python",
   "name": "python3"
  },
  "language_info": {
   "codemirror_mode": {
    "name": "ipython",
    "version": 3
   },
   "file_extension": ".py",
   "mimetype": "text/x-python",
   "name": "python",
   "nbconvert_exporter": "python",
   "pygments_lexer": "ipython3",
   "version": "3.6.4"
  }
 },
 "nbformat": 4,
 "nbformat_minor": 2
}
