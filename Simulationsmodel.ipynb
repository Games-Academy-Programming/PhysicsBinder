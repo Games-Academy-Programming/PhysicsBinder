{
 "cells": [
  {
   "cell_type": "markdown",
   "metadata": {},
   "source": [
    "# Simulationsmodel\n",
    "\n"
   ]
  },
  {
   "cell_type": "markdown",
   "metadata": {},
   "source": [
    "Als Nächstes wollen wir uns die explizite Implementierung der Physiksimulation genauer anschauen. Das Simulationsmodell soll in Unity erstellt werden. Zielt ist es \n",
    "\n",
    "* Einen Itterativen Impuls solver \n",
    "* mit Steuerung der translatorischen Bewegung\n",
    "* und rotatorischen Bewegung\n",
    "* sowie Regelung des Statischen Fehlers\n",
    "\n",
    "zu implementieren. \n",
    "\n"
   ]
  },
  {
   "cell_type": "markdown",
   "metadata": {},
   "source": [
    "Die Simulationsumgebung soll es erlauben \n",
    "\n",
    "* Die Masse der Bälle einzustellen\n",
    "* Den Radius der Bälle einzustellen\n",
    "* Die Position der Wände und des Bodens einzustellen\n",
    "    * Die Wände und der Boden müssen nicht notwendigerweise über den Impulse Solver erzeugt werden. Es können hier auch Überlegungen getroffen werden, wie das Verhalten dieser Strukturen angenähert oder Idealisiert werden kann. \n",
    "* Die Anzahl der Simulierten Bälle zu manipulieren\n",
    "* Die Simulierten Bälle zu visualisieren\n",
    "* Die Kontaktpunkte zu visualisieren\n",
    "* Die Normal- und Tangentialvektoren des Kontaktpunktes zu visualisieren\n",
    "* Den Normal- und Tangentialimpuls des Kontaktpunktes zu visualisieren"
   ]
  },
  {
   "attachments": {
    "image.png": {
     "image/png": "[encoded data removed]"
    }
   },
   "cell_type": "markdown",
   "metadata": {},
   "source": [
    "![image.png](attachment:image.png)"
   ]
  },
  {
   "cell_type": "markdown",
   "metadata": {},
   "source": [
    "## Vorgehensweise "
   ]
  },
  {
   "cell_type": "markdown",
   "metadata": {},
   "source": [
    "### Class Ball\n",
    "\n",
    "Zunächst soll eine Klasse geschrieben werden, welche alle notwendigen Informationen über den Collider beinhaltet. Diese Umfassen u.A.:\n",
    "\n",
    "* Radius\n",
    "* Masse \n",
    "* Massenträgheitsmoment\n",
    "* Geschwindigkeit\n",
    "* Position \n",
    "* Winkelgeschwindigkeit \n",
    "* Lagewinkel\n",
    "\n",
    "Die Klasse muss ebenfalls Funktionen besitzen, über welche Lage und Geschwindigkeit, sowie Lagewinkel und Winkelgeschwindigkeit geändert werden können. \n",
    "\n",
    "Um den Impuls Solver verwenden zu können, wird eine Funktion benötigt, mit welcher ein Impuls auf den Ball gegeben werden kann. "
   ]
  },
  {
   "cell_type": "markdown",
   "metadata": {},
   "source": [
    "### Class Constraint\n",
    "\n",
    "Ein Constraint ist in diesem Simulationsmodell eine Klasse (oder ein Struct) welche zwei Collider (in diesem Fall unsere Ball Klasse) verbindet. \n",
    "\n",
    "Sie enthällt alle Abhängigen Informationen über die Kollission, diese beinhalten unter Anderen\n",
    "\n",
    "* Kontaktpunkt zwischen den beiden Collidern\n",
    "* akkumulierten Gesamtimpuls \n",
    "* akkumulierten Tangentialimpuls\n",
    "* Effektive Masse (Translation)\n",
    "* Effektive Masse (Rotation / Tangential)\n",
    "\n",
    "Sowie Funktionen um die \n",
    "\n",
    "* Überlappung\n",
    "* Relative Geschwindigkeit im Kontaktpunkt\n",
    "\n",
    "zu bestimmen.\n",
    "\n",
    "Es ist bei der Definition des Kontakpunktes <span style=\"color:red\">**EXTREM**</span> wichtig im Vorhinein festzulegen, in welche Richtung die Normalvektoren und Tangentialvektoren zeigen. Es ist sehr einfach hier Vorzeichenfehler einzubauen die erst spät im Prozess auffallen und vergleichsweise schwer zu Debuggen sind. \n",
    "\n",
    "Es soll auch überlegt werden, welches Vorzeichen für die Überlappung gelten soll im Bezug zum Normalvektor des Kontaktpunktes. "
   ]
  },
  {
   "cell_type": "markdown",
   "metadata": {},
   "source": [
    "### Class PhysicsHandler \n",
    "\n",
    "Diese Klasse verbindet alle Einzelteile die wir bisher gesammelt haben. Diese Klasse soll\n",
    "\n",
    "* Eine Möglichkeit besitzen, die Anzahl der Velocity Solver Itterationen zu modifizieren\n",
    "* Eine Möglichkeit besitzen, die Anzahl der Position Solver Itterationen zu modifizieren\n",
    "* Die Größe der Virtuellen Box, in welcher die Simulation stattfindet zu modifizieren\n",
    "* Die Gravitaions zu ändern\n",
    "* Die Reibung zu ändern\n",
    "\n",
    "Darüberhinaus besitzt sie Referenzen zu den simulierten Bällen, und ist in der Lage festzustellen, ob zwei Bälle überlappen oder die Virtuelle Box verlassen haben. "
   ]
  },
  {
   "cell_type": "markdown",
   "metadata": {},
   "source": [
    "#### Programmablauf \n",
    "\n",
    "* Bestimme, ob Bälle überlappen, oder die Virtuelle Box verlassen haben. \n",
    "    * Falls ja, erstelle einen Constraint, welcher diese Regelverletzung löst. \n",
    "* Integriere alle wirkenden Kräfte (hier zunächst nur die Schwerkraft)\n",
    "* Itteriere in der festgelgten Anzahl über die Velocity Constraints\n",
    "* Integriere die Geschwindigkeiten alles Simulierten Bälle\n",
    "* Itteriere in der festgelgten Anzahl über die Position Constraints"
   ]
  },
  {
   "cell_type": "markdown",
   "metadata": {},
   "source": [
    "## Position Constraint und Pseudo-Impuls\n",
    "\n",
    "Warum nicht nur Velocity Constraint? \n",
    "\n",
    "Der Velocity Constraint trägt dafür Sorge, dass es zu keiner weiteren relativen Bewegung der im Constraint gebundenen Körper kommt. Alleine ist dieser jedoch nicht in der Lage einen bestehnden Fehler (die Überlappung) zu korrigieren. \n",
    "\n",
    "Anstatt die Position über einen echten Impuls zu korrigieren wollen wir hier stattdessen direkt auf die Position des Körpers einfluss nehmen. \n",
    "\n",
    "Die Verwendung eines echten Impulses bei der Korrektur der Position hätte zu Folge, dass mit jeder Itteration des Positionconstraint dem System Energie hinzugefügt wird. \n",
    "\n",
    "In der klassischen Darstellung würde gelten: \n",
    "\n",
    "$$\n",
    "\\dot C = V \\cdot n - \\beta \\frac{s}{\\Delta t}\n",
    "$$\n",
    "\n",
    "und der Impuls, welcher im Velocity Constraint aufgebaut wird, wird größer, je drastischer die Überlappung ist. $\\beta$ ist hierbei ein Steuerungsfaktor. "
   ]
  },
  {
   "cell_type": "markdown",
   "metadata": {},
   "source": [
    "### Clamping $\\lambda$"
   ]
  },
  {
   "cell_type": "markdown",
   "metadata": {},
   "source": [
    "Wir müssen noch ein Problem lösen, welches auftreten kann, wenn wir Impuls integrieren. Wir können unser angestrebtes Ziel (die analytisch bestimmbare Reaktionskraft) überschreiten. Wenn wir den Impuls, welcher innerhalb einer Itteration eingebracht wird, nicht kappen, können wir aus einem Überschuss nicht zurückkeheren, wenn wir den Impuls direkt kappen. \n",
    "\n",
    "Hier können wir Erin Cattos Ansatz verwenden, um die Größen zu begrenzen:"
   ]
  },
  {
   "cell_type": "code",
   "execution_count": 1,
   "metadata": {},
   "outputs": [
    {
     "ename": "NameError",
     "evalue": "name 'constraint' is not defined",
     "output_type": "error",
     "traceback": [
      "\u001b[1;31m---------------------------------------------------------------------------\u001b[0m",
      "\u001b[1;31mNameError\u001b[0m                                 Traceback (most recent call last)",
      "\u001b[1;32m<ipython-input-1-9d961d33e233>\u001b[0m in \u001b[0;36m<module>\u001b[1;34m()\u001b[0m\n\u001b[1;32m----> 1\u001b[1;33m \u001b[0moldImpulse\u001b[0m \u001b[1;33m=\u001b[0m \u001b[0mconstraint\u001b[0m\u001b[1;33m.\u001b[0m\u001b[0mimpulse\u001b[0m\u001b[1;33m;\u001b[0m\u001b[1;33m\u001b[0m\u001b[0m\n\u001b[0m\u001b[0;32m      2\u001b[0m \u001b[0mdelta\u001b[0m \u001b[1;33m=\u001b[0m \u001b[0mconstraint\u001b[0m\u001b[1;33m.\u001b[0m\u001b[0mComputeImpulse\u001b[0m\u001b[1;33m(\u001b[0m\u001b[1;33m)\u001b[0m\u001b[1;33m;\u001b[0m\u001b[1;33m\u001b[0m\u001b[0m\n\u001b[0;32m      3\u001b[0m \u001b[0mconstraint\u001b[0m\u001b[1;33m.\u001b[0m\u001b[0mimpulse\u001b[0m \u001b[1;33m+=\u001b[0m \u001b[0mdelta\u001b[0m\u001b[1;33m;\u001b[0m\u001b[1;33m\u001b[0m\u001b[0m\n\u001b[0;32m      4\u001b[0m \u001b[0mconstraint\u001b[0m\u001b[1;33m.\u001b[0m\u001b[0mimpulse\u001b[0m \u001b[1;33m=\u001b[0m \u001b[0mmax\u001b[0m\u001b[1;33m(\u001b[0m\u001b[1;36m0\u001b[0m\u001b[1;33m,\u001b[0m \u001b[0mconstraint\u001b[0m\u001b[1;33m.\u001b[0m\u001b[0mimpulse\u001b[0m\u001b[1;33m)\u001b[0m\u001b[1;33m\u001b[0m\u001b[0m\n\u001b[0;32m      5\u001b[0m \u001b[0mdelta\u001b[0m \u001b[1;33m=\u001b[0m \u001b[0mconstraint\u001b[0m\u001b[1;33m.\u001b[0m\u001b[0mimpulse\u001b[0m \u001b[1;33m-\u001b[0m \u001b[0moldImpulse\u001b[0m\u001b[1;33m;\u001b[0m\u001b[1;33m\u001b[0m\u001b[0m\n",
      "\u001b[1;31mNameError\u001b[0m: name 'constraint' is not defined"
     ]
    }
   ],
   "source": []
  },
  {
   "cell_type": "markdown",
   "metadata": {},
   "source": [
    "Ein Großteil des hier vorgstellten Simulationsmodells basiert auf dieser Lesung von Erin Catto:"
   ]
  },
  {
   "cell_type": "code",
   "execution_count": 2,
   "metadata": {},
   "outputs": [
    {
     "data": {
      "image/jpeg": "[encoded data removed]",
      "text/html": [
       "\n",
       "        <iframe\n",
       "            width=\"650\"\n",
       "            height=\"300\"\n",
       "            src=\"https://www.youtube.com/embed/SHinxAhv1ZE\"\n",
       "            frameborder=\"0\"\n",
       "            allowfullscreen\n",
       "        ></iframe>\n",
       "        "
      ],
      "text/plain": [
       "<IPython.lib.display.YouTubeVideo at 0x1d405579ac8>"
      ]
     },
     "execution_count": 2,
     "metadata": {},
     "output_type": "execute_result"
    }
   ],
   "source": [
    "from IPython.display import YouTubeVideo\n",
    "YouTubeVideo(\"SHinxAhv1ZE\", width=650)"
   ]
  },
  {
   "cell_type": "markdown",
   "metadata": {},
   "source": [
    "### Weiterführende Ideen: \n",
    "\n",
    "Neben dem Constraint, der nur für einen Frame lebt, ist es auch möglich Constraints über mehrere Frames hinweg am Leben zu erhalten. Diese Praxis wird typischerweise als 'Warmstarting' bezeichnet. Vorteil des Warmstarting ist, dass der akkumulierte Impuls der letzten Itteration beibehalten wird und damit eine insgesamt stabilere Simulation erzeugt wird. \n",
    "\n",
    "Ein Problem von Warmstart Systemen ist jedoch, dass diese schlecht mit Ladungswechseln umgehen könne, da vor allen in gestapelten Objekten tiefer liegende Stützpunkte neben der 'echten' Last die im aktuellen Frame wirkt auch noch einen Teil der Last des letzten Frames stützen. "
   ]
  },
  {
   "cell_type": "markdown",
   "metadata": {},
   "source": [
    "**Copyright**\n",
    "\n",
    "The notebooks are provided as [Open Educational Resources](https://en.wikipedia.org/wiki/Open_educational_resources). Feel free to use the notebooks for your own purposes. The text is licensed under [Creative Commons Attribution 4.0]\n",
    "(https://creativecommons.org/licenses/by/4.0/), the code of the IPython examples under the [MIT license](https://opensource.org/licenses/MIT). \n",
    "Please attribute the work as follows: *Games Academy Berlin, Physics for Games Development, 2022*."
   ]
  }
 ],
 "metadata": {
  "kernelspec": {
   "display_name": "Python 3",
   "language": "python",
   "name": "python3"
  },
  "language_info": {
   "codemirror_mode": {
    "name": "ipython",
    "version": 3
   },
   "file_extension": ".py",
   "mimetype": "text/x-python",
   "name": "python",
   "nbconvert_exporter": "python",
   "pygments_lexer": "ipython3",
   "version": "3.6.4"
  }
 },
 "nbformat": 4,
 "nbformat_minor": 2
}
