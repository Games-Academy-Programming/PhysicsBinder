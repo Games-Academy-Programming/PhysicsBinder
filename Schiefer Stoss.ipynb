{
 "cells": [
  {
   "cell_type": "markdown",
   "metadata": {},
   "source": [
    "# Schiefer Stoß\n",
    "\n",
    "Zuvor wurde der [gerade Stoß](Gerader Stoss.ipynb) beschrieben, in welchem die Kollission der Massepunkte auf einer Achse stattfand. \n",
    "\n",
    "Der Stoß soll im Folgenden verallgemeinert werden um einen Stoß in der Ebene zu beschreiben, in welchem die betrachteten Körper beliebige Geschwindigkeitsvektoren $\\vec v_1, \\vec v_2$ besitzen. \n",
    "\n",
    "Der Stoßvorgang selbst wird weiterhin nicht betrachtet, stattdessen wird nur der Zustand direkt vor und direkt nach dem Stoß modelliert. "
   ]
  },
  {
   "cell_type": "markdown",
   "metadata": {},
   "source": [
    "## Stoßnormale und Berührungsebene\n",
    "\n",
    "Für den geraden Stoß wurde angenommen, dass die Bewegung beider Körper in einer Achse stattfindet, hierdurch konnte mit den Beträgen der Geschwindigkeiten gerechnet werden, anstatt der Geschwindigkeitsvektoren. Diese Vereinfachung ist nun hinfällig. \n",
    "\n",
    "Um die Bewegung der Massepunkte vor und nach dem Stoß beschreiben zu können muss notwendigerweise die Berührungsebene sowie die Stoßnormale bestimmt werden. Im folgenden soll der zentrische Stoß betrachtet werden. Im zentrischen Stoß verläuft die Stoßnormale durch die Masseschwerpunkte der beteiligten Körper. Ist diese Bedingung nicht erfüllt handelt es sich um einen exzentrischen Stoß. \n",
    "\n",
    "Mit dieser Einschränkung lässt sich die Berührungsebene relativ einfach bestimmen, sie steht auf der Stoßnormalen am Rand der Geometrie der an der Kollission beteiligten Körper. \n",
    "\n",
    "Allgemein ist die Berührungsebene als Tangente der Körperhülle im Berührungspunkt definiert. Die Stoßnormale steht normal auf dieser Ebene im Berührungspunkt. \n",
    "\n",
    "### Aufgabe \n",
    "\n",
    "Welche geometrischen Bedingungen müssen erfüllt werden um einen zentrischen Stoß zu garantieren? "
   ]
  },
  {
   "cell_type": "markdown",
   "metadata": {},
   "source": [
    "## Schiefer zentrischer Stoß\n",
    "\n",
    "Für den schiefen zentrischen Stoß sollen zunächst die Zustände vor und nach dem Stoß definiert werden. Zur einfacheren Darstellung entsprich im Folgenden die $y$-Achse des Berührungsebene, womit die $x$-Achse die Stoßnormale abbildet. \n",
    "\n",
    "Die beiden Massen bewegen sich vor dem Stoß in den Winkeln $\\alpha, \\beta$ im Bezug zur Stoßnormalen auf einander zu. \n",
    "\n",
    "Während des Stoßes wird eine innere Energie entlang der Stoßnormalen zwischen den Massen übertragen. Nach dem Stoß bewegen sich die beiden Massen unter den Winkeln $\\alpha^*, \\beta^*$ im Bezug zur Stoßnormalen vom Kollissionspunkt weg. \n",
    "\n",
    "Hierbei wird angenommen, dass zwischen den kollidierenden Körpern keine Reibung besteht. Hierdurch wirkt nur eine Kraft in Richtung der Stoßnormalen und die Bewegung entlang der Berührungsebene bleibt unverändert. Anders ausgedrückt gilt in Anlehnung an den Impulssatz\n",
    "\n",
    "\\begin{align}\n",
    "m_1 v_{1,y}^* -m_1 v_{1,y} &= 0 \\\\\n",
    "m_2 v_{2,y}^* -m_2 v_{2,y} &= 0\n",
    "\\end{align}\n",
    "\n",
    "für die in der Berührungsebene wirkenden Kräfte. Diese Gleichung kann vereinfacht werden durch Kürzung der Massen $m_i$ zu \n",
    "\n",
    "\\begin{align}\n",
    "v_{1,y}^* &= v_{1,y} \\\\\n",
    "v_{2,y}^* &= v_{2,y}\n",
    "\\end{align}. \n",
    "\n",
    "Die Geschwindigkeiten entlang der Stoßnormalen entsprechen in ihrer Form dem geraden zentrischen Stoß\n",
    "\n",
    "\\begin{align}\n",
    "v_{1, x}^* &= \\frac{m_1 v_{1,x } + m_2 v_{2, x} +e m_2 (v_{2,x} - v_{1,x}) }{m_1 + m_2} \\\\\n",
    "v_{2, x}^* &= \\frac{m_2 v_{2, x} + m_1 v_{1,x } + e m_1 (v_{1,x} - v_{2,x}) }{m_1 + m_2}\n",
    "\\end{align}\n",
    "\n",
    "wobei $e$ die Stoßzahl ist. "
   ]
  },
  {
   "cell_type": "markdown",
   "metadata": {},
   "source": [
    "**Copyright**\n",
    "\n",
    "The notebooks are provided as [Open Educational Resources](https://en.wikipedia.org/wiki/Open_educational_resources). Feel free to use the notebooks for your own purposes. The text is licensed under [Creative Commons Attribution 4.0]\n",
    "(https://creativecommons.org/licenses/by/4.0/), the code of the IPython examples under the [MIT license](https://opensource.org/licenses/MIT). \n",
    "Please attribute the work as follows: *Games Academy Berlin, Physics for Games Development, 2022*."
   ]
  }
 ],
 "metadata": {
  "kernelspec": {
   "display_name": "Python 3",
   "language": "python",
   "name": "python3"
  },
  "language_info": {
   "codemirror_mode": {
    "name": "ipython",
    "version": 3
   },
   "file_extension": ".py",
   "mimetype": "text/x-python",
   "name": "python",
   "nbconvert_exporter": "python",
   "pygments_lexer": "ipython3",
   "version": "3.6.4"
  }
 },
 "nbformat": 4,
 "nbformat_minor": 2
}
