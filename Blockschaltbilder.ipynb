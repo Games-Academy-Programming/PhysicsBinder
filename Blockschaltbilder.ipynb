{
 "cells": [
  {
   "cell_type": "markdown",
   "metadata": {},
   "source": [
    "# Regelungsblockschaltbilder\n",
    "\n",
    "Regelungsblockschaltbilder sind ein in der Regelungstechnik beliebtes Mittel um komplexe physikalische Zusammenhänge graphisch darzustellen. Diese Blockschaltbilder können darüber hinaus auch in graphischen Programmierumgebungen wie Matlab Simulink direkt implementiert und simuliert werden. \n",
    "\n",
    "Andere graphische Progammierumgebungen wie Unreal Engine's Blueprint können auf eine solche Nutzung ebenfalls angepasst werden. Angemerkt sei hier, dass die Verwendung von Blueprints um Regelunsblockschaltbilder zu implementieren eher untypisch ist. \n",
    "\n",
    "Wir wollen uns zunächst mit den grundlegenden Elementen vertraut machen, welche in einem typischen Blockschaltbild auftauchen, und später ein spezifisches Blockschaltbild aufbauen. \n",
    "\n",
    "Für die einzelnen Blöcke wird ein Eingang $x(t) \\in \\mathrm{C}$ und ein Ausgang $y(t) \\in \\mathrm{C}$ mit $t \\in \\mathrm{R}$\n",
    "\n",
    "Aus systemdynamischer Betrachtung sei angemerkt, dass wie annehen, dass alle Blöcke linear und zeitinvariant sind sofern nicht anders bezeichnet. "
   ]
  },
  {
   "cell_type": "markdown",
   "metadata": {},
   "source": [
    "## Kante\n",
    "\n",
    "Eine Kante beschreibt die Verbindung zwischen zwei Blöcken in einem Blockschaltbild. Eine Kante ohne Eingang kann auch als Systemeingang verwendet werden, eine Kante die auf keinen Block zeigt wiederum als Systemausgang. "
   ]
  },
  {
   "cell_type": "markdown",
   "metadata": {},
   "source": [
    "## Konstante\n",
    "\n",
    "Der denkbar einfachste Block in einem Blockschaltbild, dieser besitzt keinen Eingang sondern nur einen Ausgang \n",
    "\n",
    "$$\n",
    "y(t) = a\n",
    "$$\n",
    "\n",
    "wobei $a$ eine beliebige Konstante ist. "
   ]
  },
  {
   "cell_type": "markdown",
   "metadata": {},
   "source": [
    "## Skalar\n",
    "\n",
    "Hier wird ein Signal um einen bestimmten Wert skalliert.\n",
    "\n",
    "es gilt der Zusammenhang\n",
    "\n",
    "$$y(t) = a x(t)$$ \n",
    "\n",
    "wobei $a$ der Skalar des Blocks ist. "
   ]
  },
  {
   "cell_type": "markdown",
   "metadata": {},
   "source": [
    "## Summationsblock\n",
    "\n",
    "Ein Summationsblock nimmt zwei Signale des gleichen Typs (Skalar oder Vektor gleicher Ordnung) an und summiert diese komponentenweise. Typischerweise ist die Standartannahme, dass eine Addition durchgeführt wird und das \"+\"-Zeichen wird unterschlagen und wie notwendig ein \"-\" Zeichen am Subtrahenden für Subtraktionen angetragen. \n",
    "\n",
    "Hier gilt \n",
    "\n",
    "$$y(t) = \\Sigma_i x_i(t)$$"
   ]
  },
  {
   "cell_type": "markdown",
   "metadata": {},
   "source": [
    "## Verzweigung\n",
    "\n",
    "Eine Verzweigung kann an jeder beliebigen Kante zwischen zwei Blöcken des Schaltbildes aufgemacht werden. Hierbei wird das Signal aufgeteilt und für mehrere Eingänge verwendet. "
   ]
  },
  {
   "cell_type": "markdown",
   "metadata": {},
   "source": [
    "## Multiplikation und Division\n",
    "\n",
    "Diese Blöcke sind grundsätzlich nicht linear. Diese Blöcke werden verwendet um die verschiedenen Eingänge miteinander zu multiplizieren, bzw. Dividieren. \n",
    "\n",
    "Es gilt \n",
    "\n",
    "$$\n",
    "y(t) = \\Pi _i x_i(t)\n",
    "$$\n",
    "\n",
    "bzw. für Division \n",
    "$$\n",
    "y(t) = x_1(t) * \\Pi _i \\frac{1}{x_i(t)} \\; mit \\; i > 1\n",
    "$$"
   ]
  },
  {
   "cell_type": "markdown",
   "metadata": {},
   "source": [
    "## Integrator\n",
    "\n",
    "Dieser Block integriert ein Signal über die Zeit. Das Symbol wird entweder durch $\\int dt$ oder durch $s^{-1}$ bzw. $\\frac{1}{s}$ angegeben. Der erste Ausdruck zeigt die Integration im Zeitbereich, der zweite Ausdruck die Integration im Bildbereich. Funktional sind diese Blöcke identisch. \n",
    "\n",
    "Wird eine Aufgabe im Zeitbereich bearbeitet, sollte der Übersichtlichkeit halber versucht werden den Ausdruck im Zeitbereich zu verwenden, für Anwendungen im Bildbereich der entsprechende Ausdruck im Bildbereich. \n",
    "\n",
    "Es gilt der Zusammenhang \n",
    "\n",
    "$$\n",
    "y(t) = \\int x(t) dt\n",
    "$$\n",
    "\n",
    "beziehungsweise im Bildbereich \n",
    "\n",
    "$$Y(s) = \\frac{X(s)}{s}$$\n",
    "\n",
    "Integratoren benötigen Grundsätzlich einen Startwert von welchem aus sie die Integration beginnen. Unter der Annahme, dass ein System zu Beginn der Simulation energiefrei ist, können sämmtliche Integratoren mit 0 initialisiert werden. \n",
    "\n",
    "Die Annahme, dass ein System energiefrei ist vereinfacht darüber hinaus die Laplace Transformation enorm. "
   ]
  },
  {
   "cell_type": "markdown",
   "metadata": {},
   "source": [
    "## Transformationsblock \n",
    "\n",
    "Diese Blöcke Transformieren ein Einganssignal aus einem Koordinatensystem in ein beliebiges anderes Koordinatensystem als lineare Transformation. Je nach art der Transformation können zusätzliche Eingangssignale erforderlich werden. Ein Beispiel hierfür ist die Transformation aus einem $\\alpha, \\beta$ Koordinatensystem welches in der Wechselstromlehre üblich ist um Zwitsignale abzubilden in ein $d,q$ Koordinatensystem. Hier liegt die $d$-Achse auf der reelen Achse des Drehfeldes, die $q$-Achse auf dem Imaginärteil. Hierdurch werden die DC zu AC größen und sind wesentlich einfacher auszuwerten. Für die Drehung des Koordinatensystems wird ein Winkel als weiterer Eingang benötigt. \n",
    "\n",
    "Andere Koordinaten Transformationen können der Übergang zwischen lokalen und globalen Koordinatensystemen sein, oder die Umrechnung zwischen verschiedenen lokalen Koordinatensystemen. "
   ]
  },
  {
   "cell_type": "markdown",
   "metadata": {},
   "source": [
    "## Übertragungsglieder \n",
    "\n",
    "Neben den oben gezeigten generischen Operationen existieren auch Übertragungsglieder, welche spezifische Übertragungsfunktionen implementieren. Die Übertragungsfunktion wird häufg mit $G(s)$ oder mit $H(s)$ angetragen. Erstere Notation ist in der Regelungstechnik häufiger anzutreffen, letztere in der Signal- und Systemtheorie. Es ist im einzelfall zu überprüfen welche Notation gilt, wenn ein Blockschaltbild betrachtet wird. \n",
    "\n",
    "### Gängige Übertragunsgfunktionen\n",
    "\n",
    "Zwei extrem häufige Übertragunsglieder stellen PT$_1$ und PT$_2$ Systeme dar. Diese Systeme treten in mechanischen System auf, wenn Federn und Dämpfer anwesend sind. Auf diese Bauteile wird im dritten Modul dieser Vorlesung genauer eingegangen, genauso wie auf Übertragungsfunktionen sowie deren Nomenklatur. \n",
    "\n",
    "## Allgemeines nicht lineares Übertragungsglied\n",
    "\n",
    "Nicht lineare Übertragunsglieder implementieren wie lineare Übertragunsglieder eine spezifische Funktion zwischen Ein- und Ausgang. Diese ist aber namensgebend nicht linear. Im Symbol erscheint die nichtlinearität als Doppellinie um das Symbol."
   ]
  },
  {
   "cell_type": "markdown",
   "metadata": {},
   "source": [
    "## Blockschaltbild Algebra\n",
    "\n",
    "Einige Strukturen tauchen in Blockschaltbildern sehr häufig auf, entsprechend wurden Strategien entworfen um sie zu vereinfachen. \n",
    "\n",
    "### Parallelschaltung\n",
    "\n",
    "Parrallel geschaltete Übertragunsgglieder können in einer Übertragungsfunktion zusammengefasst werden, welche die parralell geschalteten Übertragungsfunktionen addiert. \n",
    "\n",
    "\n",
    "### Reihenschaltung\n",
    "\n",
    "In Reihe geschaltete Übertragunsgglieder können in einer Übertragungsfunktion zusammengefasst werden, welche die in reihe geschalteten Übertragungsfunktionen multipliziert. \n",
    "\n",
    "### Kreistrukturen\n",
    "\n",
    "Eine Kreisstruktur, in welcher der Ausgang des direkten Zweiges über eine weitere Übertragungsfunktion auf den Eingang zurückgefürht wird kann wie Folgt aufgelöst werden. \n",
    "\n",
    "$$G(s)= \\frac{G_d(s)}{1+G_d(s)G_r(s)}$$"
   ]
  },
  {
   "cell_type": "markdown",
   "metadata": {},
   "source": [
    "**Copyright**\n",
    "\n",
    "The notebooks are provided as [Open Educational Resources](https://en.wikipedia.org/wiki/Open_educational_resources). Feel free to use the notebooks for your own purposes. The text is licensed under [Creative Commons Attribution 4.0]\n",
    "(https://creativecommons.org/licenses/by/4.0/), the code of the IPython examples under the [MIT license](https://opensource.org/licenses/MIT). \n",
    "Please attribute the work as follows: *Games Academy Berlin, Physics for Games Development, 2022*."
   ]
  }
 ],
 "metadata": {
  "kernelspec": {
   "display_name": "Python 3",
   "language": "python",
   "name": "python3"
  },
  "language_info": {
   "codemirror_mode": {
    "name": "ipython",
    "version": 3
   },
   "file_extension": ".py",
   "mimetype": "text/x-python",
   "name": "python",
   "nbconvert_exporter": "python",
   "pygments_lexer": "ipython3",
   "version": "3.6.4"
  }
 },
 "nbformat": 4,
 "nbformat_minor": 2
}
