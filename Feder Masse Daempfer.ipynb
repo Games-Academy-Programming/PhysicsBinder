{
 "cells": [
  {
   "cell_type": "markdown",
   "metadata": {},
   "source": [
    "# Feder-Masse-Dämpfer Systeme"
   ]
  },
  {
   "cell_type": "markdown",
   "metadata": {},
   "source": [
    "Wie bereits in vorhergehenden Kapiteln angesprochen existieren mehrere Formen der Bindung zwischen mechanischen Körpern. \n",
    "\n",
    "Hier ist zwischen \n",
    "\n",
    "- Kinematischen \n",
    "- Physikalischen\n",
    "\n",
    "Bindungen zu unterscheiden. \n",
    "\n",
    "In kinematischen Bindungen kann die Beziehung zwischen zwei Körpern als festes geometrisches Verhältnis ausgedrückt werden. Dieser Fall wurde in den Vorherigen Kapiteln bereits zur Genüge behandelt. \n",
    "\n",
    "Des Weiteren kann die Beziehung zwischen zwei Körpern durch physikalische Bindungen beschrieben werden. Hier bestehen maßgeblich zwei Bindungen: \n",
    "\n",
    "- Federn \n",
    "- Dämpfer"
   ]
  },
  {
   "cell_type": "markdown",
   "metadata": {},
   "source": [
    "## Feder\n",
    "\n",
    "### Allgemeine Zusammenhänge\n",
    "\n",
    "Federn sind mechanische Konstrukte, welche potentielle Energie durch Änderung ihrer Geometrie aufnehmen. Hier kann es sich um typische Schraubenfedern handeln, aber auch Blattfedern oder Luftreifen. \n",
    "\n",
    "Zur vereinfachung der Betrachtung wird hier angenommen, dass alle Federn ideal linear sind, d.h. die Federkonstante $c$ ist keine Funktion der Auslenkung $x$ "
   ]
  },
  {
   "cell_type": "markdown",
   "metadata": {},
   "source": [
    "$$\n",
    "c(x) = \\mathrm{konst.} \\; \\mathrm{für}\\, x \\in \\mathbb{R}\n",
    "$$"
   ]
  },
  {
   "cell_type": "markdown",
   "metadata": {},
   "source": [
    "Federkräfte wirken generell entgegen der Richtung der Auslenkung und folgen dem Zusammenhang"
   ]
  },
  {
   "cell_type": "markdown",
   "metadata": {},
   "source": [
    "$$\n",
    "\\vec F = - \\vec e_x \\cdot F_F = - \\vec e_x \\cdot c \\cdot x\n",
    "$$\n",
    "\n",
    "$$ \n",
    "F_C =c \\cdot x  \n",
    "$$\n",
    "\n",
    "wobei $c$ die Federkonstante, $x$ die Auslenkung der Feder und $\\vec e_x$ der Einheitsvektor der Auslenkung sind. "
   ]
  },
  {
   "cell_type": "markdown",
   "metadata": {},
   "source": [
    "<span style=\"color:red\">**Es ist beim Aufstellen der Gleichungen extrem wichtig auf die Vorzeichen der Federkräfte zu achten! Es ist extrem einfach diese falsch zu setzen!**</span>."
   ]
  },
  {
   "cell_type": "markdown",
   "metadata": {},
   "source": [
    "### Potentielle Energie\n",
    "\n",
    "Wie bereits angesprochen können Federn auch Energie speichern. Mit den angenommenen Randbedingungen kann die Gleichung für die potentielle Energie wie folgt ermittelt werden \n",
    "\n",
    "\\begin{align}\n",
    "E_p &= \\int F_F \\cdot dx = c \\cdot \\int x dx \\\\\n",
    "E_p &= \\frac{1}{2}\\cdot c \\cdot x ^2 = \\frac{1}{2}\\cdot F_F \\cdot x \n",
    "\\end{align}\n",
    "\n",
    "Diese Beziehung gilt *nur* für lineare Federn! Die potentielle Energie der Feder kann auch im Kraft-Verlängerungs Diagramm als Fläche unter der Kennlinie dargestellt werden. "
   ]
  },
  {
   "cell_type": "markdown",
   "metadata": {},
   "source": [
    "### Gekoppelte Systeme\n",
    "\n",
    "Neben Federn die als Lager fest mit einer Oberfläche verbunden sind, können diese auch als Verbindung zwischen zwei verschiednenen Massepunkten dienen. Hier tritt folglich eine Kraft zwischen den Massepunkten auf, welche als Funktion des Abstands zwischen den Massepunkten darstellbar ist. \n",
    "\n",
    "Mit zwei Massepunkten $m_1, m_2$ welche jeweils eine Koordinate $x_1,x_2$ besitzen und durch eine Feder mit der Federsteifigkeit $c$ verbunden sind, dargestellt in der folgenden Abbildung, gilt \n",
    "\n",
    "$$\n",
    "F_F = c \\cdot (x_2 - x_1)\n",
    "$$"
   ]
  },
  {
   "attachments": {
    "federn.png": {
     "image/png": "[encoded data removed]"
    }
   },
   "cell_type": "markdown",
   "metadata": {},
   "source": [
    "<img src=\"attachment:federn.png\" width=\"500\">"
   ]
  },
  {
   "cell_type": "markdown",
   "metadata": {},
   "source": [
    "## Dämpfer\n",
    "\n",
    "Neben der Feder als physikalische Bindung zwischen zwei Massen treten häufig auch Dämpfer auf. \n",
    "\n",
    "Dämpfer sind Elemente, welche kinetische Energie aus einem System entnehmen und sie durch Reibung in Wärme umsetzen. Die Verwendung von Dämpfern ist damit immer mit einem Energieverlust verbunden! \n",
    "\n",
    "Das im Alltag häufigste Beispiel eines Dämpfers ist vermutlich der Stoßdämpfer in PKWs. Die Gegenkraft wird hier durch Ölfluss erzeugt. Die Dämpferstange besitzt Ventile, welche dem Öl im Zylinderkolben einen Widerstand entgegensetzen. Die innere Reibung des Öls bewirkt hier den Energieverlust. \n",
    "\n",
    "Die Dämpferkraft wirkt stets der Bewegungsrichtung entgegen. \n",
    "\n",
    "Es gilt der Zusammenhang nach *STOKES*:"
   ]
  },
  {
   "cell_type": "markdown",
   "metadata": {},
   "source": [
    "$$\n",
    "\\vec F_D =  - k_D\\cdot  \\vec v\n",
    "$$\n",
    "\n",
    "Für einachsige Bewegungen können die Beträge verwendet werden und es gilt:\n",
    "\n",
    "$$\n",
    "F_D = - k_D\\cdot \\dot x\n",
    "$$"
   ]
  },
  {
   "cell_type": "markdown",
   "metadata": {},
   "source": [
    "wobei $F_D$ die Dämpferkraft, $k_D$ die Dämpferkonstante und $\\dot x$ die Geschwindigkeit des Körpers ist. "
   ]
  },
  {
   "cell_type": "markdown",
   "metadata": {},
   "source": [
    "Wichtig bei Dämpfungen durch Reibung, bei Gleitreibung ist die auftretende Kraft geschwindigkeitsunabhängig. "
   ]
  },
  {
   "cell_type": "markdown",
   "metadata": {},
   "source": [
    "Neben den Reibungsvorgängen in Flüssigkeiten können auch Reibungsvorgänge zwischen Oberflächen und der Luft auftreten. Anders als bei dem Zusammenhang nach *STOKES* ist hier die Abhängigkeit von Dämpfungskraft zur Geschwindigkeit nicht linear, sondern quadratisch. "
   ]
  },
  {
   "cell_type": "markdown",
   "metadata": {},
   "source": [
    "## Schwingungen \n",
    "\n",
    "Mit allen Teilen nun beisammen können wir Systeme zusammenbauen, welche nicht nur von Außen angeregt in Bewegung gesetzt werden können, sonder auch eigenständig ihre Bewegung ändern können. \n",
    "\n",
    "Aber was sind Schwingungen, wo kommen sie her, wie können wir sie beschreiben?"
   ]
  },
  {
   "cell_type": "markdown",
   "metadata": {},
   "source": [
    "### Grundbegriffe \n",
    "\n",
    "#### Frequenz\n",
    "\n",
    "Die Frequenz bezeichnet das inverse der Zeit welche ein System benötigt um ein bestimmtes verhalten zu wiederholen. \n",
    "\n",
    "$$f = \\frac{1}{T} $$ \n",
    "\n",
    "wobei $f$ die frequenz in $s^{-1}$ und $T$ die Periodendauer in $s$ darstellt. \n",
    "\n",
    "#### Eigenfrequenz\n",
    "\n",
    "Die Frequenz mit welcher ein System nach einer Anregung ohne äußeren Einfluss schwingt. \n",
    "\n",
    "Wird ein System in der Eigenfrequenz angeregt, kommt es zu einer massiven Verstärkung der Schwingung! \n",
    "\n",
    "Beispiele aus der Technik in welchen die Eigenfrequenz zu Problemen geführt haben, sind hier zu finden"
   ]
  },
  {
   "cell_type": "code",
   "execution_count": 2,
   "metadata": {},
   "outputs": [],
   "source": [
    "from IPython.display import YouTubeVideo"
   ]
  },
  {
   "cell_type": "code",
   "execution_count": 4,
   "metadata": {
    "scrolled": false
   },
   "outputs": [
    {
     "data": {
      "image/jpeg": "[encoded data removed]",
      "text/html": [
       "\n",
       "        <iframe\n",
       "            width=\"800\"\n",
       "            height=\"500\"\n",
       "            src=\"https://www.youtube.com/embed/mXTSnZgrfxM\"\n",
       "            frameborder=\"0\"\n",
       "            allowfullscreen\n",
       "        ></iframe>\n",
       "        "
      ],
      "text/plain": [
       "<IPython.lib.display.YouTubeVideo at 0x1e9d7874198>"
      ]
     },
     "execution_count": 4,
     "metadata": {},
     "output_type": "execute_result"
    }
   ],
   "source": [
    "YouTubeVideo(\"mXTSnZgrfxM\", width=800, height = 500)"
   ]
  },
  {
   "cell_type": "markdown",
   "metadata": {},
   "source": [
    "In der Tacoma Bridge haben periodische Strömungsabrisse des Windes die Brücke in ihrer Eigenfrequenz angeregt und die Brücke zum Kollaps gebracht."
   ]
  },
  {
   "cell_type": "code",
   "execution_count": 5,
   "metadata": {},
   "outputs": [
    {
     "data": {
      "image/jpeg": "[encoded data removed]",
      "text/html": [
       "\n",
       "        <iframe\n",
       "            width=\"400\"\n",
       "            height=\"300\"\n",
       "            src=\"https://www.youtube.com/embed/eAXVa__XWZ8\"\n",
       "            frameborder=\"0\"\n",
       "            allowfullscreen\n",
       "        ></iframe>\n",
       "        "
      ],
      "text/plain": [
       "<IPython.lib.display.YouTubeVideo at 0x23b35e1e5c0>"
      ]
     },
     "execution_count": 5,
     "metadata": {},
     "output_type": "execute_result"
    }
   ],
   "source": [
    "YouTubeVideo(\"eAXVa__XWZ8\", width=400)"
   ]
  },
  {
   "cell_type": "markdown",
   "metadata": {},
   "source": [
    "Die Millenium Bridge ist zwar nicht eingestrüzt, aber dank der spontanen Synchronisierung der Fußgänger in der Seitwärtsbewegung angeregt, bis die Brücke gesperrt werden musste. "
   ]
  },
  {
   "cell_type": "markdown",
   "metadata": {},
   "source": [
    "### Schwingungsarten \n",
    "\n",
    "Zuerst wollen wir betrachten, welche verschiedenen Schwingungen wir beobachten können"
   ]
  },
  {
   "cell_type": "markdown",
   "metadata": {},
   "source": [
    "#### Periodische Schwingungen\n",
    "\n",
    "Hierbei wird eine allgemeine Bewegung $x(t)$ bzw. $\\varphi(t)$ nach einer Periodendauer $T$ wiederholt. "
   ]
  },
  {
   "cell_type": "markdown",
   "metadata": {},
   "source": [
    "#### Harmonische Schwingungen\n",
    "\n",
    "Hierbei handelt es sich um einen Spezialfall der periodischen Schwingung. Sie wiederholt wie die periodische Schwingung eine Bewegung $x(t)$ bzw. $\\varphi(t)$ nach einer Periodendauer $T$. Der Unterschied besteht in der durchgeführten Bewegung, welche hier durch eine harmonische Gleichung dargestellt werden kann. Es gilt damit "
   ]
  },
  {
   "cell_type": "markdown",
   "metadata": {},
   "source": [
    "$$\n",
    "x(t) = A \\cdot sin(\\omega_0 t + \\gamma)\n",
    "$$"
   ]
  },
  {
   "cell_type": "markdown",
   "metadata": {},
   "source": [
    "Hierbei stellt $A$ die Amplitude der Schwingung dar, $\\omega_0$ Eigenfrequenz und $t$ die Zeit."
   ]
  },
  {
   "cell_type": "markdown",
   "metadata": {},
   "source": [
    "Der Zusammenhang zwischen Frequenz $f$ und Eigenfrequenz einer Schwingung lautet "
   ]
  },
  {
   "cell_type": "markdown",
   "metadata": {},
   "source": [
    "$$\\omega_0 = \\frac{2 \\pi}{T} = 2\\pi \\cdot f$$"
   ]
  },
  {
   "cell_type": "markdown",
   "metadata": {},
   "source": [
    "#### Ungedämpfte Schwingungen\n",
    "\n",
    "In einer Ungedämpften Schwingung geht keine Energie verloren, aus diesem Grund bleibt die Schwingungsamplitude konstant über den Zeitraum der Schwingung. "
   ]
  },
  {
   "cell_type": "markdown",
   "metadata": {},
   "source": [
    "#### Gedämpfte Schwingungen\n",
    "\n",
    "Im Gegensatz zur ungedämpften Schwingung geht hier Energie verloren. Die Schwingung kann immernoch mit einer harmonischen Gleichung beschrieben werden, aber die Amplitude nimmt mit der Zeit ab. \n",
    "\n",
    "Die Dämpfung kann groß genug sein um eine Schwingung vollständig zu verhindern. \n",
    "\n",
    "Ist die Dämpfung genau so groß, dass kein Überschwingen erfolgt, wird dies als aperiodischer Grenzfall bezeichnet. Ist die Dämpfung noch größer als in diesem Fall, spricht man von einer aperiodischen Bewegung. "
   ]
  },
  {
   "cell_type": "markdown",
   "metadata": {},
   "source": [
    "#### Freie Schwingung\n",
    "\n",
    "Es handelt sich um eine freie Schwingung wenn ein System einmal angeregt wird und danach sich selbst überlassen. Ohne äußeren einfluss wird das System nach einiger Zeit mit der Eigenfrequenz $\\omega_0$ schwingen. Freie Schwingungen können gedämpft und ungedämpft sein."
   ]
  },
  {
   "cell_type": "markdown",
   "metadata": {},
   "source": [
    "#### Erzwungene Schwingungen\n",
    "\n",
    "Im Gegensatz zur freien Schwingung wird der Körper hier über den gesamten Beobachtungszeitraum angeregt. Hierduch können auch Körper, die selbt nicht zu Schingungsprozessen neigen in Schwingung versetzt werden, oder eine Schwigung induziert werden die nicht der Eigenfrequenz entspricht. "
   ]
  },
  {
   "cell_type": "markdown",
   "metadata": {},
   "source": [
    "## Typische Schingungssysteme"
   ]
  },
  {
   "cell_type": "markdown",
   "metadata": {},
   "source": [
    "### Feder Masse Schwinger \n",
    "\n",
    "Der Feder-Masse Schwinger ist vermutlich eines der einfachsten und dazu in der Praxis relevantesten Systeme. Hier wird eine Masse $m$ mit einer Feder der Federsteifigkeit $c_F$ verbunden, oder einer vergleichbaren elastischen Aufhängung. \n",
    "\n",
    "Die Masse wird hier ausgelenkt, wodurch es zu einer Gegenkraft in der Feder kommt, welche die Masse zurücktreibt. Die Massenträgheit führt dann zu einer erneuten Auslenkung der Feder. \n",
    "\n",
    "Die meisten Systeme in der Technik lassen sich durch solche Feder-Masse Systeme beschreiben. "
   ]
  },
  {
   "cell_type": "markdown",
   "metadata": {},
   "source": [
    "### Drehschwinger \n",
    "\n",
    "Drehschwinger folgen dem gleichen Prinzip wie Feder-Masse Schwinger, mit dem Unterschied, dass hier eine Torsionsstange verwendet wird anstatt einer Feder und keine Masse $m$ sondern ein Massenträgheitmoment $J$ Energie tauschen. "
   ]
  },
  {
   "cell_type": "markdown",
   "metadata": {},
   "source": [
    "### Schwerependel\n",
    "\n",
    "Das Schwerependel arbeitet nach einem etwas anderen Prinzip als die bisher betrachteten Systeme. Wichtig ist hierbei, dass die Physik zwischen Fadenpendel (mathematisches Pendel) und Körperpendel (physikalisches Pendel) unterscheidet. Das mathematische Pendel nimmt an, dass nur eine Punktmasse existiert, das Körperpendel betrachtet darüber hinaus auch das Massenträgheitsmoment im Schwingungsvorgang. \n",
    "\n",
    "Sowohl ein Uhrenpendel, als auch ein Schaukelstuhl stellen ein Schwerependel dar, wobei ein Schaukelstuhl als spezialfall des inversen Pendels verstanen werden kann. "
   ]
  },
  {
   "cell_type": "markdown",
   "metadata": {},
   "source": [
    "## Aber was ist eine Schwingung jetzt genau?"
   ]
  },
  {
   "cell_type": "markdown",
   "metadata": {},
   "source": [
    "Hier müssen wir zunächst nocheinmal in Erinnerung rufen, was Integratoren in einem physikalischen System darstellen und wo diese auftreten. "
   ]
  },
  {
   "cell_type": "markdown",
   "metadata": {},
   "source": [
    "Zur Wiederholung, die Zusammenhänge von Ort bis zur Beschleunigung sind wie folgt: "
   ]
  },
  {
   "cell_type": "markdown",
   "metadata": {},
   "source": [
    "\\begin{equation}\n",
    "    \\vec{v}  = \\lim\\limits_{\\Delta t \\rightarrow 0} \\frac{\\Delta \\vec{s}}{\\Delta t} = \\frac{\\mathrm d \\vec{s}}{\\mathrm d t} = \\dot{\\vec{s}}\n",
    "\\end{equation}"
   ]
  },
  {
   "cell_type": "markdown",
   "metadata": {},
   "source": [
    "\\begin{equation}\n",
    "    \\vec{a}  = \\lim\\limits_{\\Delta t \\rightarrow 0} \\frac{\\Delta \\vec{v}}{\\Delta t} = \\frac{\\mathrm d \\vec{v}}{\\mathrm d t} = \\ddot{\\vec{s}}\n",
    "\\end{equation}"
   ]
  },
  {
   "cell_type": "markdown",
   "metadata": {},
   "source": [
    "Die Geschwindigkeit ist die Änderung des Ortes mit der Zeit, die Beschleunigung ist die Änderung der Geschwindigkeit mit der Zeit. \n",
    "\n",
    "Die Umkehroperation zur Differentiation ist weiterhin die Integration. Damit folgt "
   ]
  },
  {
   "cell_type": "markdown",
   "metadata": {},
   "source": [
    "$$\n",
    "\\vec s = \\int \\vec v dt\n",
    "$$\n",
    "sowie\n",
    "$$\n",
    "\\vec v = \\int \\vec a dt\n",
    "$$"
   ]
  },
  {
   "cell_type": "markdown",
   "metadata": {},
   "source": [
    "Um von der Beschleunigung (bzw. der über die Masse normierten Kraft) zum Ort zu gelangen benötig es zwei Integratoren. \n",
    "\n",
    "Aber was *sind* Integratoren?"
   ]
  },
  {
   "cell_type": "markdown",
   "metadata": {},
   "source": [
    "### Integratoren als Energiespeicher\n",
    "\n",
    "Integratoren können als Energiespeicher verstanden werden. Sie werden mit einem Eingangssignal \"aufgeladen\" und geben dieses, aufsummiert über die Zeit als Ausgangssignal weiter. \n",
    "\n",
    "Je nach art des Energiespeichers ist dieses Weitergeben der Energie mit einem Entladen verbunden. Bspw. ein Kondensator, dessen Energie durch Ladungstrennung erzeugt wird und das entladen mit dem Abgeben von Elektronen verbunden ist. Andererseits ist die Geschwindigkeit eines Körpers auch Energiespeicher, da nach dem Impulserhaltungssatz ein Körper ohne wirkende Kräfte in gleichförmiger Bewegung bleibt. "
   ]
  },
  {
   "cell_type": "markdown",
   "metadata": {},
   "source": [
    "### Wie entsteht jetzt eine Schwingung?\n",
    "\n",
    "Um ein System in Schwingung zu versetzen, benötigt es zwei Energiespeicher, welche in der Lage sind im System Energie auszutauschen. \n",
    "\n",
    "In elektrischen Systemen sind die Energiespeicher das elektrostatische Feld eines Kondensators und das elektrodynamische (magnetische) Feld von Spulen. Das Kondenstor hält seine Energie durch ruhende Ladung auf den Kondensatorplatten. Das elektrodynamische Feld bezieht seine Energie aus Ladung, die sich bewegt. Felder können in ihrem Betrag nicht Springen, sondern Laden und Entladen sich über die Zeit, der Energieaustausch zwischen ruhender Ladung und Energie im elektrostatischen Feld und bewegter Ladung und Energie im elektrodynamischen Feld führt zu elektrischen Schwingungsprozessen. "
   ]
  },
  {
   "cell_type": "markdown",
   "metadata": {},
   "source": [
    "Das gleiche Prinzip gilt auch für die mechanischen Prozesse. Im Federmassesystem wird Energie in der Auslenkung der Feder als potentielle Energie gespeichert und in kinetische Energie umgewandelt indem die Feder eine Kraft auf die Masse ausübt. Das erneute Aufladen erfolgt dann durch die Massenträgheit. "
   ]
  },
  {
   "cell_type": "markdown",
   "metadata": {},
   "source": [
    "## Aufgabe 1\n",
    "\n",
    "Was ist der Energiespeicher im Schwerependel?"
   ]
  },
  {
   "cell_type": "markdown",
   "metadata": {},
   "source": [
    "## Mathematische Beschreibung der Schwingung\n",
    "\n",
    "### Feder Masse Schwinger\n",
    "\n",
    "Nimmt man ein Masse, welche sich nur auf einer Achse bewegen kann und mit einer Feder verbunden ist, kann nach dem der folgende Zusammenhang gefunden werden:"
   ]
  },
  {
   "cell_type": "markdown",
   "metadata": {},
   "source": [
    "$$\n",
    "F_x = -F_F = -c \\cdot x\n",
    "$$"
   ]
  },
  {
   "cell_type": "markdown",
   "metadata": {},
   "source": [
    "(negatives Vorzeichen, da die Federkraft entgegen der Auslenkung wirkt.)\n",
    "\n",
    "Eingesetzt in die *NEWTONSCHE* Grundgleichung folgt damit"
   ]
  },
  {
   "cell_type": "markdown",
   "metadata": {},
   "source": [
    "$$\n",
    "\\ddot x \\cdot m = F_x = - c \\cdot x\n",
    "$$"
   ]
  },
  {
   "cell_type": "markdown",
   "metadata": {},
   "source": [
    "nach 0 aufgelößt und mit \n",
    "\n",
    "$$\n",
    "\\omega_0^2 = \\frac{c}{m}\n",
    "$$\n",
    "\n",
    "als Ausdruck für die Eigenfrequenz folgt"
   ]
  },
  {
   "cell_type": "markdown",
   "metadata": {},
   "source": [
    "$$\n",
    "\\ddot x + \\omega_0^2 \\cdot x = 0\n",
    "$$\n",
    "\n",
    "Bei dieser Gleichung handelt es sich um eine lineare homogene Differentialgleichung 2- Ordnung mit konstanten Koeffizienten."
   ]
  },
  {
   "cell_type": "markdown",
   "metadata": {},
   "source": [
    "### Gedämpfter Feder Masse Schwinger\n",
    "\n",
    "Im gedämpften System kommt hier noch eine weitere Kraft ins Spiel. \n",
    "\n",
    "Hier kann nach Freischnitt der Zusammenhang \n",
    "\n",
    "$$\n",
    "m \\cdot \\ddot x = F_x = -c \\cdot x - k \\cdot \\dot x\n",
    "$$\n",
    "\n",
    "geblidet werden. \n",
    "\n",
    "In die Allgemeine Form von Schwingungsdifferentialgleichungen gebracht gilt damit: \n",
    "\n",
    "$$\n",
    "\\ddot x + \\frac{k}{m} \\cdot \\dot x + \\frac{c}{m} x = 0\n",
    "$$"
   ]
  },
  {
   "cell_type": "markdown",
   "metadata": {},
   "source": [
    "Diese Ausdrücke können dann weiterhin verwendet werden um mit geeigneten Numerischen oder Analytischen verfahren das System zu lösen. "
   ]
  },
  {
   "cell_type": "markdown",
   "metadata": {},
   "source": [
    "### Aufgabe 2\n",
    "\n",
    "Analysiere die gefundenen Ausdrücke! "
   ]
  },
  {
   "cell_type": "markdown",
   "metadata": {},
   "source": [
    "**Copyright**\n",
    "\n",
    "The notebooks are provided as [Open Educational Resources](https://en.wikipedia.org/wiki/Open_educational_resources). Feel free to use the notebooks for your own purposes. The text is licensed under [Creative Commons Attribution 4.0]\n",
    "(https://creativecommons.org/licenses/by/4.0/), the code of the IPython examples under the [MIT license](https://opensource.org/licenses/MIT). \n",
    "Please attribute the work as follows: *Games Academy Berlin, Physics for Games Development, 2022*."
   ]
  }
 ],
 "metadata": {
  "kernelspec": {
   "display_name": "Python 3",
   "language": "python",
   "name": "python3"
  },
  "language_info": {
   "codemirror_mode": {
    "name": "ipython",
    "version": 3
   },
   "file_extension": ".py",
   "mimetype": "text/x-python",
   "name": "python",
   "nbconvert_exporter": "python",
   "pygments_lexer": "ipython3",
   "version": "3.6.4"
  }
 },
 "nbformat": 4,
 "nbformat_minor": 2
}
