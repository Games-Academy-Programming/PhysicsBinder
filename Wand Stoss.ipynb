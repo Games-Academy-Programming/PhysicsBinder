{
 "cells": [
  {
   "cell_type": "markdown",
   "metadata": {},
   "source": [
    "# Stoß mit einer Wand\n",
    "\n",
    "im folgenden soll der letzte Fall des Stoßes betrachtet werden. Der Stoß eines Massepunktes mit einer Wand. \n",
    "\n",
    "Dieser Fall kann lose als Spezialfall des zentrischen Stoßes zweier Massepunkte verstanden werden. Der Spezialfall definiert sich über eine unendliche Masse $m_2 = \\infty$ und der Geschwindigkeit $v_2 = 0$. \n",
    "\n",
    "## Elastischer Stoß\n",
    "\n",
    "Weiterhin wird angenommen, dass keine Reibung zwischen der Masse und der Wand besteht. Damit gilt hier genauso wie im Schiefen Stoß \n",
    "\n",
    "$$ v_{1,y} = v_{1,y}^*$$\n",
    "\n",
    "Im Fall eines elastischen Stoßes wird keine Energie verloren, hierdurch muss die Masse mit der gleichen Geschwindigkeit von der Wand abprallem mit welcher sie ursprünglich kollidiert ist. \n",
    "\n",
    "Anders ausgedrückt gilt $$ v_{x,1} = - v_{x,1}^*$$ für die Masse vor und nach dem Aufprall. \n",
    "\n",
    "Hiermit ist auch der Winkel unter welchem die Masse anstößt gleich der Masse mit welcher sie Abprallt. "
   ]
  },
  {
   "cell_type": "markdown",
   "metadata": {},
   "source": [
    "## Plastischer Stoß\n",
    "\n",
    "Wird angenommen, dass während des Stoßes Energie verloren geht kann auch hier die Newtonsche Stoßhypothese zu Hilfe genommen werden umm den Energieverlust zu modellieren. \n",
    "\n",
    "Somit gilt für die Geschwindigkeit entlang der Stoßnormalen vor und nach dem Stoß der Zusammenhang \n",
    "\n",
    "$$ v_{x,1}^* = -e v_{x,1}$$\n",
    "\n",
    "mit $e$ als Stoßzahl. \n",
    "\n",
    "Je kleiner die Stoßzahl ist, umso geringer ist die Geschwindigkeit mit welcher sich die Masse nach dem Aufprall von der Wand fortbewegt. Im Grenzfall $e=0$ gleitet die Masse nach dem Stoß an der Wand entlang. "
   ]
  },
  {
   "cell_type": "markdown",
   "metadata": {},
   "source": [
    "#### Aufgabe 1\n",
    "\n",
    "Überlege in welchen Fällen ein elastischer, teilplastischer und vollplastischer Stoß in der realen Welt vorkommt. \n",
    "\n",
    "#### Aufgabe 2\n",
    "\n",
    "Überlege wie diese verschiedenen Stöße in einem Spiel Anwendung finden können, beachte hier auch mögliche Unterschiede entsprechend dem Spielegenre, wie Simulation, Platformer oder RTS. "
   ]
  },
  {
   "cell_type": "markdown",
   "metadata": {},
   "source": [
    "**Copyright**\n",
    "\n",
    "The notebooks are provided as [Open Educational Resources](https://en.wikipedia.org/wiki/Open_educational_resources). Feel free to use the notebooks for your own purposes. The text is licensed under [Creative Commons Attribution 4.0]\n",
    "(https://creativecommons.org/licenses/by/4.0/), the code of the IPython examples under the [MIT license](https://opensource.org/licenses/MIT). \n",
    "Please attribute the work as follows: *Games Academy Berlin, Physics for Games Development, 2022*."
   ]
  }
 ],
 "metadata": {
  "kernelspec": {
   "display_name": "Python 3",
   "language": "python",
   "name": "python3"
  },
  "language_info": {
   "codemirror_mode": {
    "name": "ipython",
    "version": 3
   },
   "file_extension": ".py",
   "mimetype": "text/x-python",
   "name": "python",
   "nbconvert_exporter": "python",
   "pygments_lexer": "ipython3",
   "version": "3.6.4"
  }
 },
 "nbformat": 4,
 "nbformat_minor": 2
}
