{
 "cells": [
  {
   "cell_type": "markdown",
   "metadata": {},
   "source": [
    "# Zwangsbedingungen\n",
    "\n",
    "Im Rahmen der Massepunktmodelle wurde das Konzept der Zwangebedingungen bereits Grundlegend angesprochen. Dort haben wir es verwendet um die Kinematische Beziehung zwischen zwei Massepunkten mittels einer gemeinsamen Koordinaten zu beschreiben. \n",
    "\n",
    "Im folgenden Kapitel wollen wir diesen Ansatz verallgemeinern, um beliebige Wechselwirkungen zwischen einer beliebigen Anzahl an Körpern darzustellen. "
   ]
  },
  {
   "cell_type": "markdown",
   "metadata": {},
   "source": [
    "## Was bisher geschah\n",
    "\n",
    "Bisher wurden die Wechselwirkungen zwischen Körpern durch einen Freischnitt bestimmt. \n",
    "\n",
    "Hierbei wurde entweder die Verbindung zwischen zwei Körpern durchtrennt um herauszufinden welche Kräfte in dieser Verbindung übertragen wurden, oder ein größerer Körper in mehrere kleine Körper getrennt, um hrauszufinden wie sich die einzelnen Module verhalten. \n",
    "\n",
    "Die Wechselwirkungskräfte sind dann über die Newton'sche Grundgleichung ermittelt worden. Hierbei haben wir zwischen Körpern in ruhe (Statik und Gleichgewichtsbedingung mit Lagerreaktionen) und Dynamik (Actio est Reactio) unterschieden. \n",
    "\n",
    "Die Gleichungen der Statik wurden verwendet, um zu ermitteln, welche Kräfte in den Auflagerpunkten eines starren Körpers wirken. Nach dem Gleichgewichtsaxiom müssen die Lager eine exakt gleich große und entgegengesetzte Kraft aufbringen um eine Bewegung des Systems zu verhindern. "
   ]
  },
  {
   "cell_type": "markdown",
   "metadata": {},
   "source": [
    "<center>**Diese Idee wird später für die Physiksimulation noch einmal wichtig**</center>"
   ]
  },
  {
   "cell_type": "markdown",
   "metadata": {},
   "source": [
    "Um die Leitidee hier nocheinmal in einem Ausdruck zusammenzufassen:"
   ]
  },
  {
   "cell_type": "markdown",
   "metadata": {},
   "source": [
    "$$\n",
    "\\Sigma_i F_i + \\Sigma_i A_i = 0 \n",
    "$$"
   ]
  },
  {
   "cell_type": "markdown",
   "metadata": {},
   "source": [
    "Wobei $F_i$ die äußeren Kräfte und $A_i$ die Lagerkräfte sind."
   ]
  },
  {
   "cell_type": "markdown",
   "metadata": {},
   "source": [
    "In der Dynamik wurde die Gegenkraft nicht durch die Lager erzeugt, sondern durch die Massenträgheit. Jede Masse will ihren momentanen Impuls beibehalten. Die Impulsänderung ist direkt mit der kinetischen Energie eines Körpers verbunden. \n",
    "\n",
    "Da Energie nicht beliebig im Betrag springen kann, sondern stetig aug- bzw. abgebaut werden muss, erscheint hier eine Reaktionskraft, welche der Ursache entgegenwirkt."
   ]
  },
  {
   "cell_type": "markdown",
   "metadata": {},
   "source": [
    "Zusammengefasst gilt damit aus der Dynamik"
   ]
  },
  {
   "cell_type": "markdown",
   "metadata": {},
   "source": [
    "$$\n",
    "\\Sigma_i \\vec F_i = m \\cdot \\vec a\n",
    "$$"
   ]
  },
  {
   "cell_type": "markdown",
   "metadata": {},
   "source": [
    "Die Summe aller Kräfte ist gleich der Beschleunigung skaliert über die beschleunigte Masse. "
   ]
  },
  {
   "cell_type": "markdown",
   "metadata": {},
   "source": [
    "## Was neu hinzukommt\n",
    "\n",
    "wir wollen uns nun mit der Simulation von Körpern auseinandersetzen. Hierfür müssen wir zunächst einige Rahmenbedingungen definieren: \n",
    "\n",
    "* Körper können nicht ineinander eindringen\n",
    "        \n",
    "        In einer Spielesimulation müssen wir selbst dafür Rechnung tragen, dass Körper nicht ineinander stecken.\n",
    "\n",
    "* Alle Körper sind starre Körper\n",
    "\n",
    "        Die bekannte mechanische Kartoffel\n",
    "\n",
    "* Wir betrachten den ebenen Fall (2D)\n",
    "\n",
    "        Hauptsächlich um die Gleichungen zu vereinfachen. Der 3D Fall wird analog aufgebaut, ist aber Arbeitsintensiver.\n",
    "        \n",
    "* Wir Betrachten nur Kreise als Kollisionskörper (Collider)\n",
    "\n",
    "        Eine weitere Vereinfachung der zugrundeliegenden Mathematik.\n",
    "        \n",
    "* Wir betrachten die Lösung der Zwangsbedingungen lokal, als Interaktion zwischen zwei Körpern\n",
    "\n",
    "        Die lokale Lösung von Zwangsbedingungen ist wesentlich einfacher als die globale Lösung. \n",
    "        Die Mathematik hierfür ist beinahe verständlich. "
   ]
  },
  {
   "cell_type": "markdown",
   "metadata": {},
   "source": [
    "## Zwangsbedingungen (Constraints)\n",
    "\n",
    "### Positionconstraint"
   ]
  },
  {
   "cell_type": "markdown",
   "metadata": {},
   "source": [
    "Den ersten Contraint den wir betrachten wollen ist der Positionconstraint. Hier nehmen wir an, dass zwei Körper in einem festen Abstand zueinander stehen. \n",
    "\n",
    "Anders ausgedrückt: "
   ]
  },
  {
   "cell_type": "markdown",
   "metadata": {},
   "source": [
    "$$\n",
    "C = (p_1 - p_2) \\cdot n = 0\n",
    "$$"
   ]
  },
  {
   "cell_type": "markdown",
   "metadata": {},
   "source": [
    "wobei $C(t)$ die Constraint Funktion darstellt und $\\vec n$ den normalisierten Richtungsvektor zwischen den beiden Punkten $p_1, p_2$.\n",
    "\n",
    "Die Deutung dieser Funktion ist denkbar einfach: zu jedem Zeitpunk $t$ sollen die Punkte $p_1$ und $p_2$ einen durch $C$ beschriebenen Abstand haben. Dies kann Beispielsweise die Position auf einer Ebene sein. \n",
    "\n",
    "Der Ausdruck ist genau dann null, wenn beide Punkte übereinander liegen."
   ]
  },
  {
   "cell_type": "markdown",
   "metadata": {},
   "source": [
    "Ein ähnlicher Positionconstraint lautet: "
   ]
  },
  {
   "cell_type": "markdown",
   "metadata": {},
   "source": [
    "$$\n",
    "C = || p - p_0|| - r = 0\n",
    "$$"
   ]
  },
  {
   "cell_type": "markdown",
   "metadata": {},
   "source": [
    "hier stellt $p$ einen Punkt welcher sich auf einer Kreisbahn mit Radius $r$ um den Punkt $p_0$ bewegt. \n",
    "\n",
    "Der Ausdruck ist genau dann null, wenn $p$ auf einem Punkt der Kreisbahn liegt, in allen anderen Fällen ist der Ausdruck ungleich null. "
   ]
  },
  {
   "cell_type": "markdown",
   "metadata": {},
   "source": [
    "#### Implizite Flächen\n",
    "\n",
    "Beide Constraints definieren implizit eine Fläche, auf welcher sich die Punkte zueinander Bewegen können. Diese kann schnell nachvollzogen werden, wenn man sich die allgemeine Kreisgleichung ansieht\n",
    "\n",
    "$$\n",
    "r^2 = x^2 + y^2\n",
    "$$\n",
    "\n",
    "Formt man diese Gleichung um, indem man den Ursprungspunkt des Kreises verschiebt \n",
    "\n",
    "$$\n",
    "r^2 = (x-x_0)^2 +  (y-y_0)^2\n",
    "$$\n",
    "\n",
    "und zieht den radius auf die andere Seite, nachdem die Wurzel gezogen wurde\n",
    "\n",
    "$$\n",
    "0 = \\sqrt{(x-x_0)^2 +  (y-y_0)^2} - r\n",
    "$$\n",
    "\n",
    "wobei \n",
    "\n",
    "$$(x-x_0)^2 +  (y-y_0)^2$$ \n",
    "\n",
    "mit \n",
    "\n",
    "$$ p(x,y) $$ \n",
    "\n",
    "und \n",
    "\n",
    "$$p(x_0,y_0)$$\n",
    "\n",
    "der Ausdruck unter der Wurzel auch als Betrag des Abstandes zwischen den Punkten $p,p_0$ dargestellt werden kann. \n",
    "\n",
    "$$\n",
    "\\sqrt{(x-x_0)^2 +  (y-y_0)^2} = || p - p_0||\n",
    "$$\n",
    "\n",
    "Eingesetzt folgt damit die Gleichung wie Oben:\n",
    "\n",
    "$$\n",
    "C = || p - p_0|| - r = 0\n",
    "$$"
   ]
  },
  {
   "cell_type": "markdown",
   "metadata": {},
   "source": [
    "### Contact constraint\n",
    "\n",
    "Der Contact constraint ist der vermutlich wichtigste Constraint in der Spielesimulation. Warum? Dieser Constraint sorgt dafür, dass sich Körper nicht durch den Boden oder durch Wände bewegen können.\n",
    "\n",
    "Zunächst beachten wir diesen Constraint als Equality-Constraint, also als Gleichung, im Gegensatz zu den Ungleichungsbedingungen (inequality Constraints) die wir später betrachten. \n",
    "Dieses Problem als Equality Constraint zu betrachten hat zur Folge, dass die Box nicht vom Boden abgehoben werden kann. Das hochheben folgt später mit den Inequality Constraints.\n",
    "\n",
    "Nehmen wir nun eine Box ($B$) die auf einem festen Boden ($A$) stehen als erstes Beispiel für diesen Constraint. hier gilt für den Constraint "
   ]
  },
  {
   "cell_type": "markdown",
   "metadata": {},
   "source": [
    "$$\n",
    "C = (p_B -p_A) \\cdot n\n",
    "$$"
   ]
  },
  {
   "cell_type": "markdown",
   "metadata": {},
   "source": [
    "als Ausdruck für den Position Constraint. Dies ist der gleiche Ausdruck wie oben. Die Punkte $p_i$ stellen weiterhin die Kontaktpunkte zwischen den Körpern dar. "
   ]
  },
  {
   "cell_type": "markdown",
   "metadata": {},
   "source": [
    "Neben dem Position Constraint wollen wir uns auch den Velocity Constraint für dieses Problem ansehen. \n",
    "\n",
    "Der Velocity constraint wird aus zwei Gründen benötigt: \n",
    "* Ziel ist es einen Impulse Solver zu erstellen, hierfür benötigen wir informationen über die relative Geschwindigkeit der beiden Körper\n",
    "* Wenn die Geschwindigkeit der Körper zueinander geregelt ist, ändert sich die Eindringtiefe der beiden Körper nach der Kollision nicht"
   ]
  },
  {
   "cell_type": "markdown",
   "metadata": {},
   "source": [
    "Abgeleitet nach der Zeit folgt damit der Ausdruck"
   ]
  },
  {
   "cell_type": "markdown",
   "metadata": {},
   "source": [
    "$$\n",
    "\\dot C = (\\dot p_B - \\dot p_A) \\cdot n + (p_B -p_A) \\cdot \\dot n\n",
    "$$"
   ]
  },
  {
   "cell_type": "markdown",
   "metadata": {},
   "source": [
    "Die Punktnotation gibt hier die Ableitung nach der Zeit an, $n$ den Normalvektor der Kollision, $\\dot p_i$ sind die Geschwindigkeiten der Kontaktpunkte. "
   ]
  },
  {
   "cell_type": "markdown",
   "metadata": {},
   "source": [
    "#### Vereinfachungen\n",
    "\n",
    "Der Velocityconstraint kann an einigen Stellen vereinfacht werden. \n",
    "\n",
    "Wie zu Beginn angenommen, ist die Position des Boden ($A$) fest, damit ist die Ableitung der Position des Bodens mit der Zeit null. Eine zweite Vereinfachung kann mit der genauen Betrachtung der Punkte $p_A, p_B$ vorgenommen werden. Sofern der Equalityconstraint erfüllt ist, sind diese Punkte identisch, damit folgt"
   ]
  },
  {
   "cell_type": "markdown",
   "metadata": {},
   "source": [
    "$$\n",
    "\\dot C = \\dot p_B \\cdot n \n",
    "$$"
   ]
  },
  {
   "cell_type": "markdown",
   "metadata": {},
   "source": [
    "Dieser Begriff ist schon wesentlich handhabbarer. "
   ]
  },
  {
   "cell_type": "markdown",
   "metadata": {},
   "source": [
    "Wir benötigen jetzt noch einen Begriff für die Geschwindigkeit im Punkt $p_B$. \n",
    "\n",
    "Hier gilt "
   ]
  },
  {
   "cell_type": "markdown",
   "metadata": {},
   "source": [
    "$$\n",
    "\\dot p_B = (v_B + \\omega_B \\times r) \\cdot n\n",
    "$$"
   ]
  },
  {
   "cell_type": "markdown",
   "metadata": {},
   "source": [
    "wobei $v_B$ die translatorische Geschwindigkeit darstellt, $\\omega_B$ die Winkelgeschwindigkeit und $r$ den Vektor vom Schwerpunkt $B$ zum Punkt $p_B$."
   ]
  },
  {
   "cell_type": "markdown",
   "metadata": {},
   "source": [
    "#### Impuls\n",
    "\n",
    "Neben dem Velocity constraint benötigen wir noch einen Impuls für den Impuls Solver (wie man vom Namen her vermuten konnte).\n",
    "\n",
    "Hier benötigen wir zwei Impulse den linearen Impuls, um die translatorische Bewegung steuern zu können, und einen rotatorischen Impuls um die Drehbewegung zu steuern.\n",
    "\n",
    "Die Impulse sind wie folgt definiert:"
   ]
  },
  {
   "cell_type": "markdown",
   "metadata": {},
   "source": [
    "Linearer Impuls: \n",
    "$$\n",
    "\\lambda n\n",
    "$$"
   ]
  },
  {
   "cell_type": "markdown",
   "metadata": {},
   "source": [
    "Rotatorischer Impuls\n",
    "$$\n",
    "\\lambda(r\\times n)\n",
    "$$"
   ]
  },
  {
   "cell_type": "markdown",
   "metadata": {},
   "source": [
    "### Was ist $\\lambda$?\n",
    "\n",
    "$\\lambda$ ist nun die Größe um die sich alles dreht. Sie gibt den Betrag des Impulses an, welcher am Punkt $p_B$ angebracht werden muss, damit die relative Bewegung der beiden Körper zueinander null wird.\n",
    "\n",
    "Wir schauen uns hierfür zunächst nocheinmal die Definitionen von Impuls und Drall an."
   ]
  },
  {
   "cell_type": "markdown",
   "metadata": {},
   "source": [
    "Der Impuls $p$ ist definiert als\n",
    "$$\n",
    "p = m\\cdot v\n",
    "$$\n",
    "\n",
    "wobei $m$ die betrachtete Masse und $v$ die Geschwindigkeit darstellt."
   ]
  },
  {
   "cell_type": "markdown",
   "metadata": {},
   "source": [
    "Der Drall $L$ ist über \n",
    "$$\n",
    "L = \\Theta \\cdot \\omega\n",
    "$$\n",
    "definiert, $\\Theta$ ist das Massenträgheitsmoment, und $\\omega$ die Winkelgeschwindigkeit. "
   ]
  },
  {
   "cell_type": "markdown",
   "metadata": {},
   "source": [
    "Angewandt auf die Körper $A,B$ folgen damit die Ausdrücke\n",
    "\n",
    "$$\n",
    "p = m\\cdot (v_2 - v_1)\n",
    "$$\n",
    "\n",
    "$$\n",
    "L = \\Theta \\cdot (\\omega_2 - \\omega_1)\n",
    "$$\n",
    "\n",
    "Dies ist die Umformung von Newtons Gesetz, welche Kraft als Impulsänderung deutet."
   ]
  },
  {
   "cell_type": "markdown",
   "metadata": {},
   "source": [
    "aufgelöst \n",
    "\n",
    "$$\n",
    "v_2 = v_1 + m^{-1}n\\lambda\n",
    "$$"
   ]
  },
  {
   "cell_type": "markdown",
   "metadata": {},
   "source": [
    "$$\n",
    "\\omega_2 = \\omega_1 + \\Theta^{-1}(r \\times n)\\lambda\n",
    "$$"
   ]
  },
  {
   "cell_type": "markdown",
   "metadata": {},
   "source": [
    "Eingesetzt in $\\dot C$ folgt damit\n",
    "$$\n",
    "n \\cdot (v_1 + m^{-1}n\\lambda)+(r \\times n)(\\omega_1 + \\Theta^{-1}(r \\times n)\\lambda) = 0\n",
    "$$"
   ]
  },
  {
   "cell_type": "markdown",
   "metadata": {},
   "source": [
    "Damit folgt für $\\lambda$ \n",
    "\n",
    "$$\n",
    "\\lambda = -m_{eff}\\dot C_1\n",
    "$$\n",
    "\n",
    "wobei die effektive Masse $m_{eff}$ als\n",
    "\n",
    "$$\n",
    "m_{eff} = \\frac{1}{m^{-1}+ \\theta^{-1}(r \\times n)^2}\n",
    "$$\n",
    "\n",
    "definiert ist.\n",
    "\n",
    "Der Ausdruck, welcher $\\lambda$ definiert ist in seiner Form identisch mit der Definition für den 'normalen' Impuls und kann in gleicher Art interpretiert werden. "
   ]
  },
  {
   "cell_type": "markdown",
   "metadata": {},
   "source": [
    "## Globale vs. Lokale Solver\n",
    "\n",
    "wir haben jetzt einen Ausdruck, mit dem wir die Körper in eine Lage bekommen, die wir am Ende erhalten möchten. Jetzt ist die Frage, wie Implementieren wir diesen?\n",
    "\n",
    "Hier gibt es Grundsätzlich zwei Optionen: \n",
    "\n",
    "* Globale Solver\n",
    "* Lokale Solver"
   ]
  },
  {
   "cell_type": "markdown",
   "metadata": {},
   "source": [
    "### Globale Solver\n",
    "\n",
    "Hier werden alle constraints in eine Matrix eingebracht, welche die Form \n",
    "\n",
    "$$\n",
    "a_{ij} \\lambda_i = b_i \n",
    "$$\n",
    "\n",
    "besitzt. Hier ist schnell zu sehen, dass mit jedem neu eingebrachten Constraint die ($n \\times n$) Matrix um eins größer wird. Das bedeutet für ein System mit 100 constrains eine $100 \\times 100$ Matrix! \n",
    "\n",
    "Diese aufzustellen und zu lösen ist nicht mehr trivial. Und Zeitaufwendig. Als alternative dazu existieren die lokalen Solver."
   ]
  },
  {
   "cell_type": "markdown",
   "metadata": {},
   "source": [
    "### Lokale Solver\n",
    "\n",
    "Im Gegensatz zu den globalen Solvern schauen wir uns hier zu jedem zeitpunkt nur ein, oder eine logisch zusammenhängende Anzahl an Constraints an und lösen diese. \n",
    "\n",
    "Das Problem welches hierbei besteht ist jedoch: Wir betrachten zusammenhängende System mit einer beliebigen Anzahl an Körpern, wobei das lösen eines Constrains einen anderen Verletzen kann. \n",
    "\n",
    "Was ist hierfür die Lösung? \n",
    "\n",
    "**Itteration!**\n",
    "\n",
    "hierbei werden die Constraints so oft gelöst, bis alle Constraints gleichzeitig erfüllt werden. \n",
    "\n",
    "der Pseudocode hierfür sieht aus wie Folgt: (Die Cell wird einen Error werfen wenn man versucht sie auszuführen)"
   ]
  },
  {
   "cell_type": "code",
   "execution_count": null,
   "metadata": {},
   "outputs": [],
   "source": [
    "for k = 1 to num_itterations\n",
    "    for i = 1 to 3 \n",
    "        solve a_n lambda_n = b_n\n",
    "    end\n",
    "end"
   ]
  },
  {
   "cell_type": "markdown",
   "metadata": {},
   "source": [
    "## Inequality constraints\n",
    "\n",
    "Was wir bisher betrachtet haben, sind Systeme, in welchen alle Körper an dem Kontaktpunkten miteinander Verbunden sind. Was wir nun, durch die Inequality constraints, erreichen wollen, ist die Möglichkeit die Körper voneinander zu trennen. \n",
    "\n",
    "Dies bedeutet, dass wir keinen Impuls $\\lambda$ aufwenden, der die betrachteten Körper zusammenzieht, stattdessen bringen wir nur impulse ein, wenn \n",
    "\n",
    "* die Körper den Constraint nicht erfüllen\n",
    "* der Impuls $\\lambda$ die Körper auseinander schiebt\n",
    "\n",
    "Auf den genauen Ansatz, wie $\\lambda$ begrenzt werden kann, wird im letzten Abschnitt weiter eingegangen. "
   ]
  },
  {
   "cell_type": "markdown",
   "metadata": {},
   "source": [
    "## Was steckt eigentlich im Kontaktpunkt?\n",
    "\n",
    "Die Auflösung, warum wir am Anfang nocheinmal auf die Statik zurückgekommen sind; Der Kontaktpunkt eines Contact Constraints mit Impuls solver nähert die Reaktionskräfte in den Auflagepunkten an, die wir zu Begin in der Statik besprochen haben! \n",
    "\n",
    "Damit haben wir auch einen Ansatz, mit welchem wir Test schreiben können, um sicherzustellen, dass unsere Solver am Ende die richtigen Werte aufzeigen. Wir nehmen eine beliebige Geometrie, und ermitteln die Reaktionskräfte die Auftauchen sollten. Dann prüfen wir, ob unsere Simulation diese Werte auch erreicht. "
   ]
  },
  {
   "cell_type": "markdown",
   "metadata": {},
   "source": [
    "## Aufgabe \n",
    "\n",
    "Warum Positon und Velocity Constraints, aber keine Acceleration Constraints?"
   ]
  },
  {
   "cell_type": "markdown",
   "metadata": {},
   "source": [
    "**Copyright**\n",
    "\n",
    "The notebooks are provided as [Open Educational Resources](https://en.wikipedia.org/wiki/Open_educational_resources). Feel free to use the notebooks for your own purposes. The text is licensed under [Creative Commons Attribution 4.0]\n",
    "(https://creativecommons.org/licenses/by/4.0/), the code of the IPython examples under the [MIT license](https://opensource.org/licenses/MIT). \n",
    "Please attribute the work as follows: *Games Academy Berlin, Physics for Games Development, 2022*."
   ]
  }
 ],
 "metadata": {
  "kernelspec": {
   "display_name": "Python 3",
   "language": "python",
   "name": "python3"
  },
  "language_info": {
   "codemirror_mode": {
    "name": "ipython",
    "version": 3
   },
   "file_extension": ".py",
   "mimetype": "text/x-python",
   "name": "python",
   "nbconvert_exporter": "python",
   "pygments_lexer": "ipython3",
   "version": "3.6.4"
  }
 },
 "nbformat": 4,
 "nbformat_minor": 2
}
