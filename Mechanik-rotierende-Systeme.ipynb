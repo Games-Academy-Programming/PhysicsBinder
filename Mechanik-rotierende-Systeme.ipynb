{
 "cells": [
  {
   "cell_type": "markdown",
   "metadata": {},
   "source": [
    "# Rotierende Systeme\n",
    "\n",
    "Nachdem wir uns bisher Systeme angeschaut haben, die sich geradlinig bewegen, kommen wir nun zu Systemen die sich\n",
    "drehen. Dieses Notebook stellt die Grundlagen zu Polarkoordinaten und die Dynamik von rotierenden Systemen vor.\n",
    "\n",
    "Systeme können nicht nur im Raum verschoben werden, sondern auch, ohne ihren Masseschwerpunkt zu verlagern, auf der Stelle drehen. Gemeinhin wird dies als Rotation bezeichnet. \n",
    "\n",
    "Es ist wichtig hier auf den Unterschied zwischen _Rotation_ und _Revolution_ hinzuweisen. Bei der Revolution bewegt sich ein Objekt in einer Kreisbahn, oder elliptischen Bahn, um ein anderes Objekt. An einem Beispiel verdeutlicht: Sucht man nach der Wegzeit welche die Erde benötigt um die Sonne zu umkreisen, sucht man nach den _Revolutionen der Erde um die Sonne_, will man jedoch Wissen wich schnell sich die Erde um die eigene Achse dreht sucht man nach den _Rotationen der Erde (um sich selbst)_.\n",
    "\n",
    "Mit dieser Unterscheidung aus dem Weg, in die Betrachtung der Kinematik und Kinetik rotierender Systeme. \n",
    "\n",
    "Zu großen Teilen kann die Dynamik von rotierenden Systemen in Analogie zu translatorischen Systemen verstanden werden. Die meisten Prinzipien und herangehensweisen von translatorischen Systemen gelten auch für Rotierende, nur mit anderen Variablen. \n",
    "\n",
    "Zwischen den translatorsischen und rotatorischen Systemen besteht jedoch ein maßgeblicher Unterschied. Der nicht vernachlässigbare Einfluss der Form eines Objekts auf die Dynamik des Systems- wodurch wir die Geometrie nicht mehr auf den Massenpunkt vereinfachen können. "
   ]
  },
  {
   "cell_type": "markdown",
   "metadata": {},
   "source": [
    "### Kinematik \n",
    "\n",
    "Zunächst sollen die kinematischen Grundgleichungen für rotierende Systeme hergeleitet werden. \n",
    "\n",
    "#### Rotationswinkel \n",
    "\n",
    "Die Position eines Objekts in Relation zu seiner Drehachse wird über den Drehwinkel $$\\phi = \\phi(t)$$ angegeben, bzw. als Vektor $$\\vec{\\phi} = \\vec{\\phi}(t)$$. \n",
    "\n",
    "#### Winkelgeschwindigkeit\n",
    "\n",
    "Die nächste Größe ist die Winkelgeschwindigkeit $$\\omega = \\omega(t)$$ bzw. $$\\vec{\\omega} = \\vec{\\omega}(t)$$. Auch hier gilt für die mittlere Winkelgeschwindgkeit $$\\vec{\\omega_m} = \\frac{\\Delta \\phi}{\\Delta t}$$ mit den gleichen Einschränkungen wie in der mittleren Geschwindigkeit $v_m$.\n",
    "\n",
    "Auch gilt weiter der Übergang der mittleren Geschwindigkeit zur Momentangeschwindigkeit mit $$\\vec{\\omega}  = \\lim\\limits_{\\Delta t \\rightarrow 0} \\frac{\\Delta \\vec{\\phi}}{\\Delta t} = \\frac{\\mathrm d \\vec{\\phi}}{\\mathrm d t} = \\dot{\\vec{\\phi}}$$ um die Winkelgeschwindigkeit zu einem beliebigen Zeitpunkt $t$ zu erhalten. \n",
    "\n",
    "#### Winkelbeschleunigung\n",
    "\n",
    "Die letzte Größe im Bunde ist die Winkelbeschleunigung $\\epsilon$. Diese ergibt sich aus der Ableitung der Winkelgeschwindigkeit nach $$\\vec{\\epsilon}  = \\lim\\limits_{\\Delta t \\rightarrow 0} \\frac{\\Delta \\vec{\\omega}}{\\Delta t} = \\frac{\\mathrm d \\vec{\\omega}}{\\mathrm d t} = \\dot{\\vec{\\omega}}$$"
   ]
  },
  {
   "cell_type": "markdown",
   "metadata": {},
   "source": [
    "### Bewegung in Polarkoordinaten\n",
    "\n",
    "Wie bereits angesprochen muss zwischen Rotationen und Revolutionen unterschieden werden. Die Abhängigkeiten für die Rotationen wurden oben beschrieben. Nun folgen die Bewegungsgleichungen für Kreisbahnen. \n",
    "\n",
    "#### Bewegungsbahn\n",
    "\n",
    "Die Kreisbahn besitzt einen Radius $r$ und die Position des Objekts auf der Kreisbahn wird in Polarkoordinaten durch $$\\vec{r} = \n",
    "\\begin{equation}\n",
    "\\begin{pmatrix}\n",
    "r\\\\\n",
    "\\phi\n",
    "\\end{pmatrix}\n",
    "\\end{equation}\n",
    "$$beschrieben. Hier ist $r$ der Abstand zum Mittelpunkt der Kreisbahn und $\\phi$ der gegen den Uhrzeigersinn (mathematisch positiv) abgetragene Winkel zur Bezugsachse (zumeist die $x$-Achse).\n",
    "\n",
    "#### Geschwindigkeit\n",
    "\n",
    "Um die Geschwindigkeit des Objekts zu erhalten muss die Ableitung des Ortsvektors $$\\vec{r}=\\vec{e_r}\\cdot r$$ gefunden werden. \n",
    "\n",
    "Zunächst die Ableitung von $\\vec{e_r}$ gefunden werden. Die Drehung ist hierbei durch $\\mathrm d \\phi$  über den Zeitraum $\\mathrm d t$ gegeben. Rechnen wir mit dem Betrag des Einheitsvektors $|\\vec{e_r}|$ welcher auch über den Drehwinkel $\\mathrm d \\phi$ und $|\\vec{e_r}|$ als $$|\\vec{e_r}| = |\\vec{e_r}| \\cdot \\mathrm d \\phi $$  dargestellt werden kann. \n",
    "\n",
    "Damit folgt $$ \\dot{\\vec{e_r}} = \\frac{\\mathrm d \\vec{e_r}}{\\mathrm d \\vec{t}} = \\vec{e_{\\phi}} \\cdot \\frac{\\mathrm d \\phi}{\\mathrm d  \\vec{t}} = \\vec{e_{\\phi}} \\dot \\phi$$. \n",
    "\n",
    "Der zweite benötigte Ableitung betrifft den Einheitsvektor $\\vec{e_{\\phi}}$, welche analog bestimmmt werden kann, über $$ \\dot{\\vec{e_{\\phi}}} = \\frac{\\mathrm d \\vec{e_{\\phi}}}{\\mathrm d \\vec{t}} = - \\vec{e_{r}} \\cdot \\frac{\\mathrm d \\phi}{\\mathrm d  \\vec{t}} = \\vec{e_r} \\dot \\phi$$\n",
    "\n",
    "Die Geschwindigkeit in Polarkoordinaten folgt dann nach \n",
    "\n",
    "\\begin{align}\n",
    "    \\vec{v} &= \\dot{\\vec{r}} \\\\\n",
    "    &= (\\vec{e_r}\\cdot \\phi)^{.} \\\\\n",
    "    &= \\dot{\\vec{e_r}}\\cdot r + \\vec{e_r}\\cdot \\dot r\\\\\n",
    "    &= \\vec{e_r}\\cdot\\dot r + \\vec{e_{\\phi}}\\cdot r\\cdot\\dot\\phi\n",
    "\\end{align}\n",
    "\n",
    "Die Komponenten können leicht interpretiert werden, der Anteil $\\vec{e_r}\\cdot\\dot r$ stellt die radiale Geschwindigkeit dar, also die Änderung des Abstands zum Mittelpunkt der Kreisbahn. Der zweite Term $\\vec{e_{\\phi}}\\cdot r\\cdot\\dot\\phi$ ist die Quergeschwindigkeit tangential zur Kreisbahn. \n",
    "\n",
    "Die Absolutgeschwindigkeit der Kreisbewegung ergbit sich aus $$|\\vec{v}| = \\sqrt{\\dot r^2 + r^2\\cdot\\dot\\phi^2}$$\n",
    "\n",
    "#### Beschleunigung\n",
    "\n",
    "Die Beschleunigung erhällt man auch hier durch die Ableitung der Geschwindigkeit, es folgt \n",
    "\\begin{align} \n",
    "    \\vec{a} &= (\\vec{e_r}\\cdot\\dot r + \\vec{e_{\\phi}}\\cdot r\\cdot\\dot\\phi)^{.} \\\\\n",
    "            &= \\vec{e_r} \\cdot(\\ddot r - r\\cdot\\dot\\phi^2)+\\vec{e_{\\phi}}\\cdot(r\\cdot\\ddot\\phi+2\\dot r\\cdot\\dot\\phi)\n",
    "\\end{align}\n",
    "als Ausdruck für die Beschleunigung auf einer Kreisbahn. \n",
    "\n",
    "Auch hier besteht die Beschleunigung aus zwei Termen für radiale Beschleunigung und Querbeschleunigung. \n",
    "\n",
    "###  Bewegung mit festem Radius (Kreisbewegung)\n",
    "\n",
    "Zuvor wurden die Zusammenhänge für die Bewegung in Polarkoordinaten hergeleitet, diese werden nun verwendet um die Bewegung eines Objekts auf einer Kreisbahn zu beschreiben. \n",
    "\n",
    "In Formeln ausgedrückt folgt durch $r(t)=r=konst.$ für Winkelgeschwindigkeit und -beschleunigung \n",
    "\\begin{align}\n",
    "    \\vec{v} &= \\vec{e_{\\phi}} \\cdot \\omega \\cdot r\\\\\n",
    "    \\vec{a} &= \\vec{e_{\\phi}} \\cdot r \\cdot\\ddot\\phi - \\vec{e_r}\\cdot r \\cdot\\omega^2\n",
    "\\end{align}\n",
    "\n",
    "Hierbei ist in der Beschleunigung die Radialkomponente durch das negative Vorzeichen auffällig. Der Ausdruck $- \\vec{e_r}\\cdot r \\cdot\\omega^2$ stellt die Zentripetalbeschleunigung dar. "
   ]
  },
  {
   "cell_type": "markdown",
   "metadata": {},
   "source": [
    "## Massenträgheitsmoment\n",
    "\n",
    "Das Massenträgheitsmoment $\\Theta$ (häufig auch $J$ als Symbol) nimmt die Rolle der Masse $m$ in rotierenden System ein und vermittelt zwischen der Kreisbeschleunigung $\\epsilon$ und den anliegenden Moment $M$. Das Massenträgheitsmoment ist ein Moment der 2. Ordnung, ähnlich wie das Flächenträgheitsmoment, welches für die Biegung von Objekten von großer Bedeutung ist. \n",
    "\n",
    "Zunächst aus einigen alltäglichen Beobachtungen beschrieben, verhällt sich das Massenträgheitsmoment ähnlich der Masse. Je schwerer ein Objekt, umso schwerer ist es dieses zur Rotation zu bringen. Aber es ist auch schnell klar, das ein Objekt, welches Massen weit vom dem Drehpunkt weg besitzt, schwerer zu Drehen ist als ein kompaktes Objekt. Ein Effekt den sich Eiskunstläufer zu nutze machen. \n",
    "\n",
    "In der Physik wird diese Eigenschaft durch den Satz von Steiner beschrieben. Dieser besagt, dass Objekte proportional zu ihrer Masse $m$ und quadratisch zum Abstand $d$ zur Rotationsachse, das Massenträgheitsmoment erhöhen. Oder als Formel \n",
    "\n",
    "$$\\Theta_S = m d^2$$\n",
    "\n",
    "Dieser Steineranteil wird dem Massenträgheitsmoment im Bezug zum Schwerpunkt des Körpers hinzugerechnet. \n",
    "\n",
    "Das Massenträgheitsmoment bezüglich des Massenschwerpunkts ergibt sich nach \n",
    "\\begin{equation}\n",
    "\\Theta_0 = \\int\\limits_{m} r^2 \\mathrm d m\n",
    "\\end{equation}\n",
    "\n",
    "als Integral des quadratischen Abstands $r^2$ zum Massenschwerpunkt über die Masse $m$. \n",
    "\n",
    "Das Gesamtmassenträgheitsmoment ergibt sich nach \n",
    "$$\\Theta_G = \\Theta_0 + \\Theta_S$$\n",
    "\n",
    "als Superposition des Massenträgheitsmoment im Bezug zum Massenschwerpunkt und Steineranteil. \n",
    "\n",
    "Hier ist interessant anzumerken, dass komplexere Körper auch als Superposition mehrerer einfacher Körper beschrieben werden können. Also $$\\Theta_G = \\Sigma \\Theta_{0,i} + \\Theta_{S,i}$$ gilt. \n",
    "\n",
    "In den meisten Fällen ist es ratsam für eine grobe Annäherung an das reale Massenträgheitsmoment die einzelnen Komponenten mit Geometrien anzunähern die in Tabellenwerken bereits berechnet wurden um mit diesen zu einem Ergebnis zu gelangen. Für die Belange von Videospielen die nicht im Bereich der Simulation agieren ist ein so gefundenes System hinreichend akurat. "
   ]
  },
  {
   "cell_type": "markdown",
   "metadata": {},
   "source": [
    "### Kinetik \n",
    "\n",
    "Für rotierende Systeme gelten wie auch für die translatorischen die Newton'schen Axiome. \n",
    "\n",
    "Hierbei werden jedoch nicht Kräfte, Massen und Beschleunigung miteinander in Zusammenhang gebracht, sondern Momente, Massenträgheitsmomente und Winkelbeschleunigung. \n",
    "\n",
    "In Analogie zur ersten Newton'schen Gleichung gilt für rotierende Systeme $$M = \\Theta \\cdot \\ddot \\phi$$ als Grundgleichung um aus anliegenden Momenten über Integration die Bewegungsgleichungen zu ermitteln. Hier können ebenfalls mehrere Momente überlagert werden. \n",
    "\n"
   ]
  },
  {
   "cell_type": "markdown",
   "metadata": {},
   "source": [
    "### Energieerhaltung / potentielle energie / kinetische energie\n",
    "\n",
    "Für rotierende Systeme gilt weiterhin der Energieerhaltungssatz. Hier lässt sich nicht auf einfache Art eine potenzielle Energie bestimmen, dafür jedoch die kinetische Energie nach $$E_{k} = \\Theta \\cdot\\frac{\\omega^2}{2}$$"
   ]
  },
  {
   "cell_type": "markdown",
   "metadata": {},
   "source": [
    " "
   ]
  },
  {
   "cell_type": "markdown",
   "metadata": {},
   "source": [
    "**Copyright**\n",
    "\n",
    "The notebooks are provided as [Open Educational Resources](https://en.wikipedia.org/wiki/Open_educational_resources). Feel free to use the notebooks for your own purposes. The text is licensed under [Creative Commons Attribution 4.0]\n",
    "(https://creativecommons.org/licenses/by/4.0/), the code of the IPython examples under the [MIT license](https://opensource.org/licenses/MIT). \n",
    "Please attribute the work as follows: *Games Academy Berlin, Physics for Games Development, 2022*."
   ]
  }
 ],
 "metadata": {
  "kernelspec": {
   "display_name": "Python 3",
   "language": "python",
   "name": "python3"
  },
  "language_info": {
   "codemirror_mode": {
    "name": "ipython",
    "version": 3
   },
   "file_extension": ".py",
   "mimetype": "text/x-python",
   "name": "python",
   "nbconvert_exporter": "python",
   "pygments_lexer": "ipython3",
   "version": "3.6.4"
  }
 },
 "nbformat": 4,
 "nbformat_minor": 2
}
