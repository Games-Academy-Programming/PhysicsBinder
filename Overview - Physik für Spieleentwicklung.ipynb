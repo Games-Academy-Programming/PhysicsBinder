{
 "cells": [
  {
   "cell_type": "markdown",
   "metadata": {},
   "source": [
    "# Physik für Spieleentwicklung\n",
    "\n",
    "Dieser Kurs soll die Grundlagen der Trigonometrie, Vektorrechnung sowie Anwendung von Gleichungen der klassischen Mechanik vermitteln. Besonderer Fokus wird hierbei auf die Anwendung zu Problemstellungen gelegt, welche in der Spieleentwicklung vermehrt anzutreffen sind. \n",
    "\n",
    "Der Kurs \"Physik für Spielentwicklung\" besteht insgesamt aus drei modulen. Das erste Modul wird an drei Tagen (24 Unterrichtseinheiten / UE) stattfinden, die darau folgenden Module über jeweils zwei Tage (16 UE). \n",
    "\n",
    "Die Inhalte der Kurse gliedern sich wie folgt: "
   ]
  },
  {
   "cell_type": "markdown",
   "metadata": {},
   "source": [
    "#### Modul 1\n",
    "* Grundlagen der Vektorrechnung\n",
    "* Kinematik \n",
    "* Blockschaltbilder\n",
    "* Kinetik \n",
    "    * Translatorische Systeme"
   ]
  },
  {
   "cell_type": "markdown",
   "metadata": {},
   "source": [
    "#### Modul 2\n",
    "* Kinetik \n",
    "    * Wiederholung translatorsiche Systeme\n",
    "    * rotatorische Systeme\n",
    "* Stöße"
   ]
  },
  {
   "cell_type": "markdown",
   "metadata": {},
   "source": [
    "#### Modul 3\n",
    "* Feder/Masse/Dämpfer Systeme\n",
    "* Stablität \n",
    "    * von Systemen\n",
    "    * Numerisch\n",
    "* Physik als Simulation durch Zwangsbedingungen"
   ]
  },
  {
   "cell_type": "markdown",
   "metadata": {},
   "source": [
    "In diesen werden wechselnd Frontalunterricht und Demonstrationsübung durchgeführt sowie die eigenständige Arbeit der Schüler verlangt. \n",
    "\n",
    "Um den Lernfortschritt der Schüler zu prüfen wird zu beginn jedes Tages ein Quiz durchgeführt."
   ]
  },
  {
   "cell_type": "markdown",
   "metadata": {},
   "source": [
    "## Modul 1\n",
    "\n",
    "#### Mathematische Grundlagen\n",
    "\n",
    "* [Trigonometrie](Trigonometrie.ipynb)\n",
    "* [Vektorrechnung](Vektorrechnung.ipynb)\n",
    "\n",
    "#### Weitere Grundlagen\n",
    "\n",
    "* [Regelungsblockschaltbilder](Blockschaltbilder.ipynb)\n",
    "\n",
    "#### Mechanik \n",
    "* [Einführung](Mechanik-Einführung.ipynb)\n",
    "* [Dynamik](Mechanik-Dynamik.ipynb)"
   ]
  },
  {
   "cell_type": "markdown",
   "metadata": {},
   "source": [
    "## Modul 2\n",
    "\n",
    "#### Mechanik \n",
    "* [Rotierende Systeme](Mechanik-rotierende-Systeme.ipynb)\n",
    "\n",
    "#### Stoß \n",
    "* [Massepunktsysteme](Massepunktsysteme.ipynb)\n",
    "* [Gerader Stoß](Gerader Stoss.ipynb)\n",
    "* [Schiefer Stoß](Schiefer Stoss.ipynb)\n",
    "* [Stoß an einer Wand](Wand Stoss.ipynb)\n",
    "* [Exzentrischer Stoß](Exzentrischer Stoss.ipynb)"
   ]
  },
  {
   "cell_type": "markdown",
   "metadata": {},
   "source": [
    "## Modul 3\n",
    "\n",
    "#### Mechanik \n",
    "* [Feder Masse Dämpfer Systeme](Feder Masse Daempfer.ipynb)\n",
    "* [Stabilität](Stability.ipynb)\n",
    "\n",
    "#### Simulation\n",
    "* [Definition Zwangsbedingung](Zwangsbedingungen.ipynb)\n",
    "* [Erstellung des Simulationsmodells](Simulationsmodel.ipynb)"
   ]
  },
  {
   "cell_type": "markdown",
   "metadata": {},
   "source": [
    "## Literatur\n",
    "\n",
    "* Hans A. Richard und Manuela Sander *Technische Mechanik. Statik*, Springer Vieweg 2016.\n",
    "* Hans A. Richard und Manuela Sander *Technische Mechanik. Dynamik*, Springer Vieweg 2016.\n",
    "* Thomas Rießinger *Mathematik für Ingenieure*, Springer Vieweg, 2013.\n",
    "* Lothar Papula *Mathematische Formelsammlung*, Springer Vieweg, 2014.\n",
    "* [Game Engineering *Newcastle Academy*](https://research.ncl.ac.uk/game/mastersdegree/gametechnologies/physicstutorials/)\n",
    "* [Erin Catto *Iterative Dynamics with Temporal Coherence*, Crystal Dynamics, Menlo Park, California, 2005](https://box2d.org/files/ErinCatto_IterativeDynamics_GDC2005.pdf)\n"
   ]
  },
  {
   "cell_type": "markdown",
   "metadata": {},
   "source": [
    "## Beitragende\n",
    "\n",
    "* M.Sc. Michael Vagts (Autor Erstfassung)\n",
    "* M.Sc. Christopher Dettman (Korrekturleser)\n",
    "* B.A. Phillip Roloff (Korrekturleser)"
   ]
  },
  {
   "cell_type": "markdown",
   "metadata": {},
   "source": [
    "**Copyright**\n",
    "\n",
    "The notebooks are provided as [Open Educational Resources](https://en.wikipedia.org/wiki/Open_educational_resources). Feel free to use the notebooks for your own purposes. The text is licensed under [Creative Commons Attribution 4.0]\n",
    "(https://creativecommons.org/licenses/by/4.0/), the code of the IPython examples under the [MIT license](https://opensource.org/licenses/MIT). \n",
    "Please attribute the work as follows: *Games Academy Berlin, Physics for Games Development, 2022*."
   ]
  }
 ],
 "metadata": {
  "kernelspec": {
   "display_name": "Python 3",
   "language": "python",
   "name": "python3"
  },
  "language_info": {
   "codemirror_mode": {
    "name": "ipython",
    "version": 3
   },
   "file_extension": ".py",
   "mimetype": "text/x-python",
   "name": "python",
   "nbconvert_exporter": "python",
   "pygments_lexer": "ipython3",
   "version": "3.6.4"
  }
 },
 "nbformat": 4,
 "nbformat_minor": 2
}
